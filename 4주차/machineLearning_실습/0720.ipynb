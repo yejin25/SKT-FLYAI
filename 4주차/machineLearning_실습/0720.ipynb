{
 "cells": [
  {
   "cell_type": "code",
   "execution_count": 8,
   "id": "2de73103-8ce7-4670-8c82-2c21bc4e658c",
   "metadata": {},
   "outputs": [
    {
     "name": "stdout",
     "output_type": "stream",
     "text": [
      "1+2+...+100000000= 5000000050000000\n",
      "소요 시간은 6.388220548629761 초입니다.\n"
     ]
    }
   ],
   "source": [
    "import time\n",
    "start=time.time()\n",
    "sum=0\n",
    "for i in range(1,100000001):\n",
    "    sum=sum+i\n",
    "\n",
    "end=time.time()\n",
    "\n",
    "print('1+2+...+100000000=', sum)\n",
    "print('소요 시간은', end-start, '초입니다.')"
   ]
  },
  {
   "cell_type": "code",
   "execution_count": 15,
   "id": "b2e31e40-14a6-444f-adc4-30cc7cc19ecb",
   "metadata": {},
   "outputs": [
    {
     "name": "stdin",
     "output_type": "stream",
     "text": [
      "경기가 열린 곳은?  런던 스타디움\n",
      "경기가 열린 시간은?  8월 6일 오후 7시\n",
      "상대 팀은?  맨체스터 유나이티드\n",
      "손흥민은 몇 골을 넣었나요?  2\n",
      "도움은 몇 개인가요?  1\n",
      "손흥민 팀이 넣은 골 수는?  4\n",
      "상대 팀이 넣은 골 수는?  2\n"
     ]
    },
    {
     "name": "stdout",
     "output_type": "stream",
     "text": [
      "[프리미어 리그 속보(2022-07-20 10:33:56.485762)]\n",
      "손흥민 선수는런던 스타디움에서 8월 6일 오후 7시에 열린 경기에 출전하였습니다. 상대 팀은 맨체스터 유나이티드입니다. 손흥민 선수의 팀이 4골을 넣어 2골을 넣은 상대 팀을 이겼습니다. 손흥민 선수는 2골에 도움 1개로 승리를 크게 이끌었습니다. \n"
     ]
    }
   ],
   "source": [
    "from datetime import datetime\n",
    "\n",
    "place=input(\"경기가 열린 곳은? \")\n",
    "time=input(\"경기가 열린 시간은? \")\n",
    "opponent=input(\"상대 팀은? \")\n",
    "goals=input(\"손흥민은 몇 골을 넣었나요? \")\n",
    "aids=input(\"도움은 몇 개인가요? \")\n",
    "score_me=input(\"손흥민 팀이 넣은 골 수는? \")\n",
    "score_you=input(\"상대 팀이 넣은 골 수는? \")\n",
    "\n",
    "news=\"[프리미어 리그 속보(\"+str(datetime.now())+\")]\\n\"\n",
    "news=news+\"손흥민 선수는\"+place+\"에서 \"+time+\"에 열린 경기에 출전하였습니다. \"\n",
    "news=news+\"상대 팀은 \"+opponent+\"입니다. \"\n",
    "\n",
    "if score_me>score_you:\n",
    "    news=news+\"손흥민 선수의 팀이 \"+score_me+\"골을 넣어 \"+score_you+\"골을 넣은 상대 팀을 이겼습니다. \"\n",
    "elif score_me<score_you:\n",
    "    news=news+\"손흥민 선수의 팀이 \"+score_me+\"골을 넣어 \"+score_you+\"골을 넣은 상대 팀에게 졌습니다. \"\n",
    "else:\n",
    "    news=news+\"두 팀은 \"+score_me+\"대\"+score_you+\"로 비겼습니다. \"\n",
    "    \n",
    "if int(goals)>0 and int(aids)>0:\n",
    "    news=news+\"손흥민 선수는 \"+goals+\"골에 도움 \"+aids+\"개로 승리를 크게 이끌었습니다. \"\n",
    "elif int(goals)>0 and int(aids)==0:\n",
    "    news=news+\"손흥민 선수는 \"+goals+\"골로 승리를 이끌었습니다. \"\n",
    "elif int(goals)==0 and int(aids)>0:\n",
    "    news=news+\"손흥민 선수는 골은 없지만 도움 \"+aids+\"개로 승리하는 데 공헌하였습니다. \"\n",
    "else:\n",
    "    news=news+\"아쉽게도 이번 경기에서 손흥민의 발끝은 침묵을 지켰습니다. \"\n",
    "\n",
    "print(news)"
   ]
  },
  {
   "cell_type": "code",
   "execution_count": 16,
   "id": "2327825e-4b97-4a38-a602-e1de32faeeb9",
   "metadata": {},
   "outputs": [
    {
     "name": "stdout",
     "output_type": "stream",
     "text": [
      "Collecting gtts\n",
      "  Downloading gTTS-2.2.4-py3-none-any.whl (26 kB)\n",
      "Collecting playsound\n",
      "  Downloading playsound-1.3.0.tar.gz (7.7 kB)\n",
      "  Preparing metadata (setup.py): started\n",
      "  Preparing metadata (setup.py): finished with status 'done'\n",
      "Requirement already satisfied: requests in c:\\users\\042\\miniconda3\\envs\\myml\\lib\\site-packages (from gtts) (2.28.1)\n",
      "Requirement already satisfied: six in c:\\users\\042\\miniconda3\\envs\\myml\\lib\\site-packages (from gtts) (1.16.0)\n",
      "Collecting click\n",
      "  Using cached click-8.1.3-py3-none-any.whl (96 kB)\n",
      "Requirement already satisfied: colorama in c:\\users\\042\\miniconda3\\envs\\myml\\lib\\site-packages (from click->gtts) (0.4.5)\n",
      "Requirement already satisfied: idna<4,>=2.5 in c:\\users\\042\\miniconda3\\envs\\myml\\lib\\site-packages (from requests->gtts) (3.3)\n",
      "Requirement already satisfied: charset-normalizer<3,>=2 in c:\\users\\042\\miniconda3\\envs\\myml\\lib\\site-packages (from requests->gtts) (2.0.4)\n",
      "Requirement already satisfied: certifi>=2017.4.17 in c:\\users\\042\\miniconda3\\envs\\myml\\lib\\site-packages (from requests->gtts) (2022.6.15)\n",
      "Requirement already satisfied: urllib3<1.27,>=1.21.1 in c:\\users\\042\\miniconda3\\envs\\myml\\lib\\site-packages (from requests->gtts) (1.26.9)\n",
      "Building wheels for collected packages: playsound\n",
      "  Building wheel for playsound (setup.py): started\n",
      "  Building wheel for playsound (setup.py): finished with status 'done'\n",
      "  Created wheel for playsound: filename=playsound-1.3.0-py3-none-any.whl size=7035 sha256=9c9f40a0f8144d414fc15c234d3b1643bb80a5b1bfe7147c19bf6f3d45516214\n",
      "  Stored in directory: c:\\users\\042\\appdata\\local\\pip\\cache\\wheels\\73\\cd\\cf\\9750b618d54bd81c20e4c34fb24a423a5b095920367cdb3f71\n",
      "Successfully built playsound\n",
      "Installing collected packages: playsound, click, gtts\n",
      "Successfully installed click-8.1.3 gtts-2.2.4 playsound-1.3.0\n"
     ]
    },
    {
     "name": "stderr",
     "output_type": "stream",
     "text": [
      "Error processing line 1 of C:\\Users\\042\\miniconda3\\envs\\myml\\lib\\site-packages\\matplotlib-3.5.2-py3.8-nspkg.pth:\n",
      "\n",
      "  Traceback (most recent call last):\n",
      "    File \"C:\\Users\\042\\miniconda3\\envs\\myml\\lib\\site.py\", line 169, in addpackage\n",
      "      exec(line)\n",
      "    File \"<string>\", line 1, in <module>\n",
      "    File \"<frozen importlib._bootstrap>\", line 553, in module_from_spec\n",
      "  AttributeError: 'NoneType' object has no attribute 'loader'\n",
      "\n",
      "Remainder of file ignored\n"
     ]
    }
   ],
   "source": [
    "!pip install gtts playsound"
   ]
  },
  {
   "cell_type": "code",
   "execution_count": 17,
   "id": "d6221c55-32bd-43d0-b7d2-c602d0b86b0e",
   "metadata": {},
   "outputs": [
    {
     "name": "stdin",
     "output_type": "stream",
     "text": [
      "경기가 열린 곳은?  런던 스타디움\n",
      "경기가 열린 시간은?  8월 6일 오후 7시\n",
      "상대 팀은?  맨체스터 유나이티드\n",
      "손흥민은 몇 골을 넣었나요?  2\n",
      "도움은 몇 개인가요?  1\n",
      "손흥민 팀이 넣은 골 수는?  4\n",
      "상대 팀이 넣은 골 수는?  2\n"
     ]
    },
    {
     "name": "stdout",
     "output_type": "stream",
     "text": [
      "[프리미어 리그 속보(2022-07-20 10:40:10.357246)]\n",
      "손흥민 선수는런던 스타디움에서 8월 6일 오후 7시에 열린 경기에 출전하였습니다. 상대 팀은 맨체스터 유나이티드입니다. 손흥민 선수의 팀이 4골을 넣어 2골을 넣은 상대 팀을 이겼습니다. 손흥민 선수는 2골에 도움 1개로 승리를 크게 이끌었습니다. \n"
     ]
    }
   ],
   "source": [
    "from datetime import datetime\n",
    "from gtts import gTTS\n",
    "import playsound\n",
    "\n",
    "place=input(\"경기가 열린 곳은? \")\n",
    "time=input(\"경기가 열린 시간은? \")\n",
    "opponent=input(\"상대 팀은? \")\n",
    "goals=input(\"손흥민은 몇 골을 넣었나요? \")\n",
    "aids=input(\"도움은 몇 개인가요? \")\n",
    "score_me=input(\"손흥민 팀이 넣은 골 수는? \")\n",
    "score_you=input(\"상대 팀이 넣은 골 수는? \")\n",
    "\n",
    "news=\"[프리미어 리그 속보(\"+str(datetime.now())+\")]\\n\"\n",
    "news=news+\"손흥민 선수는\"+place+\"에서 \"+time+\"에 열린 경기에 출전하였습니다. \"\n",
    "news=news+\"상대 팀은 \"+opponent+\"입니다. \"\n",
    "\n",
    "if score_me>score_you:\n",
    "    news=news+\"손흥민 선수의 팀이 \"+score_me+\"골을 넣어 \"+score_you+\"골을 넣은 상대 팀을 이겼습니다. \"\n",
    "elif score_me<score_you:\n",
    "    news=news+\"손흥민 선수의 팀이 \"+score_me+\"골을 넣어 \"+score_you+\"골을 넣은 상대 팀에게 졌습니다. \"\n",
    "else:\n",
    "    news=news+\"두 팀은 \"+score_me+\"대\"+score_you+\"로 비겼습니다. \"\n",
    "    \n",
    "if int(goals)>0 and int(aids)>0:\n",
    "    news=news+\"손흥민 선수는 \"+goals+\"골에 도움 \"+aids+\"개로 승리를 크게 이끌었습니다. \"\n",
    "elif int(goals)>0 and int(aids)==0:\n",
    "    news=news+\"손흥민 선수는 \"+goals+\"골로 승리를 이끌었습니다. \"\n",
    "elif int(goals)==0 and int(aids)>0:\n",
    "    news=news+\"손흥민 선수는 골은 없지만 도움 \"+aids+\"개로 승리하는 데 공헌하였습니다. \"\n",
    "else:\n",
    "    news=news+\"아쉽게도 이번 경기에서 손흥민의 발끝은 침묵을 지켰습니다. \"\n",
    "\n",
    "print(news)\n",
    "\n",
    "tts=gTTS(text=news, lang='ko')\n",
    "tts.save(\"news_Son.mp3\")\n",
    "playsound.playsound(\"news_Son.mp3\", True)"
   ]
  },
  {
   "cell_type": "code",
   "execution_count": 19,
   "id": "1a7b7a2e-d8c1-4bb5-afed-fa4076857863",
   "metadata": {},
   "outputs": [
    {
     "name": "stdout",
     "output_type": "stream",
     "text": [
      "3\n",
      "int32\n",
      "3\n"
     ]
    }
   ],
   "source": [
    "import numpy as np\n",
    "\n",
    "arr = np.array([1,2,3])\n",
    "\n",
    "print(arr.size)\n",
    "print(arr.dtype)\n",
    "print(arr[2])"
   ]
  },
  {
   "cell_type": "code",
   "execution_count": 21,
   "id": "d58ad6c2-5dbc-4035-8c0a-a07c85ecd0f1",
   "metadata": {},
   "outputs": [
    {
     "name": "stdout",
     "output_type": "stream",
     "text": [
      "[0 1 2 3]\n",
      "[[0. 0. 0. 0.]\n",
      " [0. 0. 0. 0.]\n",
      " [0. 0. 0. 0.]\n",
      " [0. 0. 0. 0.]]\n",
      "[['1' '1' '1']\n",
      " ['1' '1' '1']\n",
      " ['1' '1' '1']]\n",
      "[[6 6 6]\n",
      " [4 2 2]\n",
      " [0 2 7]]\n",
      "[[-0.35467761  1.47588973 -0.5279656 ]\n",
      " [ 0.25743369 -0.11473101  0.33124886]\n",
      " [ 1.35340974 -1.21051558 -1.39383053]]\n"
     ]
    }
   ],
   "source": [
    "arr1 = np.arange(4)\n",
    "arr2 = np.zeros((4,4), dtype = float)\n",
    "arr3 = np.ones((3,3), dtype=str)\n",
    "\n",
    "arr4 = np.random.randint(0, 10, (3, 3))\n",
    "arr5 = np.random.normal(0, 1, (3,3))\n",
    "\n",
    "print(arr1)\n",
    "print(arr2)\n",
    "print(arr3)\n",
    "print(arr4)\n",
    "print(arr5)"
   ]
  },
  {
   "cell_type": "code",
   "execution_count": 23,
   "id": "07083a4f-d68d-41c8-818c-b99426a0cca5",
   "metadata": {},
   "outputs": [
    {
     "name": "stdout",
     "output_type": "stream",
     "text": [
      "(3, 4)\n"
     ]
    }
   ],
   "source": [
    "arr1 = np.arange(4).reshape(1,4)\n",
    "arr2 = np.arange(8).reshape(2,4)\n",
    "\n",
    "arr3 = np.concatenate([arr1, arr2], axis=0)\n",
    "print(arr3.shape)"
   ]
  },
  {
   "cell_type": "code",
   "execution_count": 24,
   "id": "2a450b76-ac9e-4019-b474-82b451d49683",
   "metadata": {},
   "outputs": [
    {
     "name": "stdout",
     "output_type": "stream",
     "text": [
      "(2, 2)\n",
      "(2, 2)\n",
      "[[0 1 2 3]\n",
      " [4 5 6 7]]\n",
      "[[0 1]\n",
      " [4 5]]\n",
      "7\n"
     ]
    }
   ],
   "source": [
    "arr = np.arange(8).reshape(2,4)\n",
    "left, right = np.split(arr, [2], axis=1)\n",
    "\n",
    "print(left.shape)\n",
    "print(right.shape)\n",
    "print(arr)\n",
    "print(left)\n",
    "print(right[1][1])"
   ]
  },
  {
   "cell_type": "code",
   "execution_count": 26,
   "id": "9cd40a45-1a4a-4dbf-ac7c-db97729b99ae",
   "metadata": {},
   "outputs": [
    {
     "name": "stdout",
     "output_type": "stream",
     "text": [
      "[[0 2]\n",
      " [2 4]]\n"
     ]
    }
   ],
   "source": [
    "arr1 = np.arange(4).reshape(2, 2)\n",
    "arr2 = np.arange(2)\n",
    "arr3 = arr1 + arr2\n",
    "print(arr3)"
   ]
  },
  {
   "cell_type": "code",
   "execution_count": 30,
   "id": "7bfca96b-1138-4238-8858-77c9bca3f05f",
   "metadata": {},
   "outputs": [
    {
     "name": "stdout",
     "output_type": "stream",
     "text": [
      "[[0 1 2 3]\n",
      " [4 5 6 7]\n",
      " [0 1 2 3]\n",
      " [4 5 6 7]]\n"
     ]
    }
   ],
   "source": [
    "arr1 = np.arange(8).reshape(2,4)\n",
    "arr2 = np.arange(8).reshape(2,4)\n",
    "\n",
    "arr3 = np.concatenate([arr1, arr2], axis = 0)\n",
    "print(arr3)"
   ]
  },
  {
   "cell_type": "code",
   "execution_count": 28,
   "id": "23896ee3-0b06-4654-8746-febd22c2b82e",
   "metadata": {},
   "outputs": [
    {
     "name": "stdout",
     "output_type": "stream",
     "text": [
      "[[ 0  1  2  3]\n",
      " [ 5  6  7  8]\n",
      " [ 2  3  4  5]\n",
      " [ 7  8  9 10]]\n"
     ]
    }
   ],
   "source": [
    "arr4 = np.arange(4).reshape(4,1)\n",
    "print(arr3+arr4)"
   ]
  },
  {
   "cell_type": "code",
   "execution_count": 31,
   "id": "61673cd5-58a3-4767-a2ab-8f89afb10760",
   "metadata": {},
   "outputs": [
    {
     "name": "stdout",
     "output_type": "stream",
     "text": [
      "[[ 0  1  2  3]\n",
      " [ 4  5  6  7]\n",
      " [ 8  9 10 11]\n",
      " [12 13 14 15]]\n"
     ]
    }
   ],
   "source": [
    "arr1 = np.arange(16).reshape(4,4)\n",
    "print(arr1)"
   ]
  },
  {
   "cell_type": "code",
   "execution_count": 32,
   "id": "a6df11f9-b0b4-42c7-81d5-cf558b94a630",
   "metadata": {},
   "outputs": [
    {
     "name": "stdout",
     "output_type": "stream",
     "text": [
      "[[ True  True  True  True]\n",
      " [ True  True  True  True]\n",
      " [ True  True False False]\n",
      " [False False False False]]\n"
     ]
    }
   ],
   "source": [
    "arr2 = arr1 < 10\n",
    "print(arr2)"
   ]
  },
  {
   "cell_type": "code",
   "execution_count": 33,
   "id": "f6e32b90-0805-47d3-9ae7-8561ebf7eeab",
   "metadata": {},
   "outputs": [
    {
     "name": "stdout",
     "output_type": "stream",
     "text": [
      "[[100 100 100 100]\n",
      " [100 100 100 100]\n",
      " [100 100  10  11]\n",
      " [ 12  13  14  15]]\n"
     ]
    }
   ],
   "source": [
    "arr1[arr2] = 100\n",
    "print(arr1)"
   ]
  },
  {
   "cell_type": "code",
   "execution_count": 34,
   "id": "fe73820a-5b2e-41c2-a041-debdbeb5aeb6",
   "metadata": {},
   "outputs": [],
   "source": [
    "arr1 = np.arange(0,10)\n",
    "arr2 = np.arange(10,20)\n",
    "np.savez('saved.npz', arr1 = arr1, arr2=arr2)"
   ]
  },
  {
   "cell_type": "code",
   "execution_count": 35,
   "id": "efb3e11c-bb29-40b3-8ecd-51c66de55716",
   "metadata": {},
   "outputs": [
    {
     "name": "stdout",
     "output_type": "stream",
     "text": [
      "[0 1 2 3 4 5 6 7 8 9]\n",
      "[10 11 12 13 14 15 16 17 18 19]\n"
     ]
    }
   ],
   "source": [
    "data = np.load('saved.npz')\n",
    "result1 = data['arr1']\n",
    "result2 = data['arr2']\n",
    "\n",
    "print(result1)\n",
    "print(result2)"
   ]
  },
  {
   "cell_type": "code",
   "execution_count": 37,
   "id": "76e27b8f-7412-4ec8-b619-92b99c16e6a5",
   "metadata": {},
   "outputs": [
    {
     "name": "stdout",
     "output_type": "stream",
     "text": [
      "[9 8 7 6 5 4 3 2 1 0]\n"
     ]
    }
   ],
   "source": [
    "arr1.sort()\n",
    "print(arr1[::-1])"
   ]
  },
  {
   "cell_type": "code",
   "execution_count": 43,
   "id": "318be26e-fd6a-4420-8d20-4ff532a2be2a",
   "metadata": {},
   "outputs": [
    {
     "name": "stdout",
     "output_type": "stream",
     "text": [
      "[[0 1 2 3 4]\n",
      " [5 6 7 8 9]]\n",
      "[[0 1 2 3 4]\n",
      " [5 6 7 8 9]]\n"
     ]
    }
   ],
   "source": [
    "arr1 = arr1.reshape(2,5)\n",
    "print(arr1)\n",
    "arr1.sort(axis=1)\n",
    "print(arr1)"
   ]
  },
  {
   "cell_type": "code",
   "execution_count": 44,
   "id": "db31ffce-3d8c-4b90-a0ae-c2bc7aba85a8",
   "metadata": {},
   "outputs": [
    {
     "name": "stdout",
     "output_type": "stream",
     "text": [
      "[[6 3 7]\n",
      " [4 6 9]]\n"
     ]
    }
   ],
   "source": [
    "np.random.seed(42)\n",
    "print(np.random.randint(0, 10, (2, 3)))"
   ]
  },
  {
   "cell_type": "code",
   "execution_count": 46,
   "id": "89d456bc-2b5f-423e-b310-2734a44e9a2d",
   "metadata": {},
   "outputs": [
    {
     "data": {
      "image/png": "[encoded data removed]",
      "text/plain": [
       "<Figure size 432x288 with 1 Axes>"
      ]
     },
     "metadata": {
      "needs_background": "light"
     },
     "output_type": "display_data"
    }
   ],
   "source": [
    "import matplotlib.pyplot as plt\n",
    "\n",
    "x = [1,2,3]\n",
    "y = [1,2,3]\n",
    "\n",
    "plt.plot(x,y)\n",
    "plt.title(\"My Plot\")\n",
    "plt.xlabel(\"X\")\n",
    "plt.ylabel(\"Y\")\n",
    "plt.show()"
   ]
  },
  {
   "cell_type": "code",
   "execution_count": 47,
   "id": "2b90c33c-e15c-49f7-bc7b-77731bc48932",
   "metadata": {},
   "outputs": [
    {
     "data": {
      "image/png": "[encoded data removed]",
      "text/plain": [
       "<Figure size 432x288 with 1 Axes>"
      ]
     },
     "metadata": {
      "needs_background": "light"
     },
     "output_type": "display_data"
    }
   ],
   "source": [
    "import matplotlib.pyplot as plt\n",
    "\n",
    "x = [1,2,3]\n",
    "y = [1,2,3]\n",
    "\n",
    "plt.plot(x,y)\n",
    "plt.title(\"My Plot\")\n",
    "plt.xlabel(\"X\")\n",
    "plt.ylabel(\"Y\")\n",
    "plt.savefig('picture.png')"
   ]
  },
  {
   "cell_type": "code",
   "execution_count": 48,
   "id": "5919ea16-9eac-41f4-8215-75b74d5d0dea",
   "metadata": {},
   "outputs": [
    {
     "data": {
      "image/png": "[encoded data removed]",
      "text/plain": [
       "<Figure size 432x288 with 2 Axes>"
      ]
     },
     "metadata": {
      "needs_background": "light"
     },
     "output_type": "display_data"
    }
   ],
   "source": [
    "x = np.linspace(0, np.pi * 10, 500)\n",
    "fig, axes = plt.subplots(2, 1)\n",
    "axes[0].plot(x, np.sin(x))\n",
    "axes[1].plot(x, np.cos(x))\n",
    "fig.savefig(\"sin&cos.png\")"
   ]
  },
  {
   "cell_type": "code",
   "execution_count": 54,
   "id": "b86b5f71-93bc-4dfb-bb51-4c872fb67d93",
   "metadata": {},
   "outputs": [
    {
     "data": {
      "image/png": "[encoded data removed]",
      "text/plain": [
       "<Figure size 432x288 with 1 Axes>"
      ]
     },
     "metadata": {
      "needs_background": "light"
     },
     "output_type": "display_data"
    }
   ],
   "source": [
    "x=np.arange(-9, 10)\n",
    "y = x ** 2\n",
    "plt.plot(x, y, linestyle=\":\", marker=\"*\")\n",
    "plt.show()"
   ]
  },
  {
   "cell_type": "code",
   "execution_count": 56,
   "id": "8efbc75c-0be5-4314-a943-ee32d2c2707e",
   "metadata": {},
   "outputs": [
    {
     "data": {
      "image/png": "[encoded data removed]",
      "text/plain": [
       "<Figure size 432x288 with 1 Axes>"
      ]
     },
     "metadata": {
      "needs_background": "light"
     },
     "output_type": "display_data"
    }
   ],
   "source": [
    "x=np.arange(-9, 10)\n",
    "y = x ** 2\n",
    "y2 = -x\n",
    "plt.plot(x, y, linestyle=\"-.\", marker=\"*\", color=\"red\", label=\"y = x * x\")\n",
    "plt.plot(x, y2, linestyle=\":\", marker=\"o\", color=\"blue\", label=\"y = -x\")\n",
    "plt.xlabel(\"X\")\n",
    "plt.ylabel(\"Y\")\n",
    "plt.legend(shadow=True, borderpad=1)\n",
    "plt.show()"
   ]
  },
  {
   "cell_type": "code",
   "execution_count": 58,
   "id": "ba3400b3-d62b-4bc0-9848-ae61169725d0",
   "metadata": {},
   "outputs": [
    {
     "data": {
      "image/png": "[encoded data removed]",
      "text/plain": [
       "<Figure size 432x288 with 1 Axes>"
      ]
     },
     "metadata": {
      "needs_background": "light"
     },
     "output_type": "display_data"
    }
   ],
   "source": [
    "x = np.arange(-9, 10)\n",
    "plt.bar(x, x**2)\n",
    "plt.show()"
   ]
  },
  {
   "cell_type": "code",
   "execution_count": 60,
   "id": "d938712f-5ba9-41db-9fb1-feec92d7669a",
   "metadata": {},
   "outputs": [
    {
     "data": {
      "image/png": "[encoded data removed]",
      "text/plain": [
       "<Figure size 432x288 with 1 Axes>"
      ]
     },
     "metadata": {
      "needs_background": "light"
     },
     "output_type": "display_data"
    }
   ],
   "source": [
    "x = np.random.rand(10)\n",
    "y = np.random.rand(10)\n",
    "z = np.random.rand(10)\n",
    "data = [x, y, z]\n",
    "x_arr = np.arange(10)\n",
    "\n",
    "for i in range(0,3):\n",
    "    plt.bar(\n",
    "        x_arr, data[i], bottom=np.sum(data[:i], axis = 0)\n",
    "    )\n",
    "\n",
    "plt.show()"
   ]
  },
  {
   "cell_type": "code",
   "execution_count": 62,
   "id": "d5cc7b43-147d-4f15-a5e7-91c91c64c9fc",
   "metadata": {},
   "outputs": [
    {
     "data": {
      "image/png": "[encoded data removed]",
      "text/plain": [
       "<Figure size 432x288 with 1 Axes>"
      ]
     },
     "metadata": {
      "needs_background": "light"
     },
     "output_type": "display_data"
    }
   ],
   "source": [
    "x = np.random.rand(10)\n",
    "y = np.random.rand(10)\n",
    "colors = np.random.randint(0, 100, 10)\n",
    "sizes = np.pi * 1000 * np.random.rand(10)\n",
    "plt.scatter(x, y, c=colors, s=sizes, alpha=0.7)\n",
    "plt.show()"
   ]
  },
  {
   "cell_type": "code",
   "execution_count": 64,
   "id": "ba208916-74a8-41d8-8868-33ea3eaddcb9",
   "metadata": {},
   "outputs": [
    {
     "name": "stdout",
     "output_type": "stream",
     "text": [
      "a     사과\n",
      "b    바나나\n",
      "c     당근\n",
      "dtype: object\n",
      "사과\n"
     ]
    }
   ],
   "source": [
    "import pandas as pd\n",
    "\n",
    "arr = pd.Series(['사과', '바나나', '당근'], index=['a', 'b', 'c'])\n",
    "print(arr)\n",
    "print(arr['a'])"
   ]
  },
  {
   "cell_type": "code",
   "execution_count": 65,
   "id": "0a72718c-ba78-4579-b961-6b6fba62c28a",
   "metadata": {},
   "outputs": [],
   "source": [
    "data = {'a':'사과', 'b':'바나나', 'c':'당근'}"
   ]
  },
  {
   "cell_type": "code",
   "execution_count": 66,
   "id": "52c92472-eaf9-432f-8044-23a63b45ffc7",
   "metadata": {},
   "outputs": [
    {
     "name": "stdout",
     "output_type": "stream",
     "text": [
      "사과\n"
     ]
    }
   ],
   "source": [
    "arr = pd.Series(data)\n",
    "print(arr['a'])"
   ]
  },
  {
   "cell_type": "code",
   "execution_count": 69,
   "id": "587d662f-1100-4a35-a602-875953b80733",
   "metadata": {},
   "outputs": [
    {
     "name": "stdout",
     "output_type": "stream",
     "text": [
      "           word  frequency\n",
      "Apple        사과        3.0\n",
      "Banana      바나나        NaN\n",
      "Carrot       당근        7.0\n",
      "Watermelon  NaN        5.0\n"
     ]
    }
   ],
   "source": [
    "word_dict = {'Apple':'사과', 'Banana': '바나나', 'Carrot':'당근'}\n",
    "frequency_dict = {'Apple':3, 'Watermelon':5, 'Carrot':7}\n",
    "\n",
    "word = pd.Series(word_dict)\n",
    "frequency = pd.Series(frequency_dict)\n",
    "summary = pd.DataFrame({'word':word,'frequency':frequency\n",
    "})\n",
    "\n",
    "print(summary)"
   ]
  },
  {
   "cell_type": "code",
   "execution_count": 70,
   "id": "edd2728a-51b0-4286-96d9-ee5cad5ec2eb",
   "metadata": {},
   "outputs": [
    {
     "data": {
      "text/html": [
       "<div>\n",
       "<style scoped>\n",
       "    .dataframe tbody tr th:only-of-type {\n",
       "        vertical-align: middle;\n",
       "    }\n",
       "\n",
       "    .dataframe tbody tr th {\n",
       "        vertical-align: top;\n",
       "    }\n",
       "\n",
       "    .dataframe thead th {\n",
       "        text-align: right;\n",
       "    }\n",
       "</style>\n",
       "<table border=\"1\" class=\"dataframe\">\n",
       "  <thead>\n",
       "    <tr style=\"text-align: right;\">\n",
       "      <th></th>\n",
       "      <th>word</th>\n",
       "      <th>frequency</th>\n",
       "    </tr>\n",
       "  </thead>\n",
       "  <tbody>\n",
       "    <tr>\n",
       "      <th>Apple</th>\n",
       "      <td>사과</td>\n",
       "      <td>3.0</td>\n",
       "    </tr>\n",
       "    <tr>\n",
       "      <th>Banana</th>\n",
       "      <td>바나나</td>\n",
       "      <td>NaN</td>\n",
       "    </tr>\n",
       "    <tr>\n",
       "      <th>Carrot</th>\n",
       "      <td>당근</td>\n",
       "      <td>7.0</td>\n",
       "    </tr>\n",
       "    <tr>\n",
       "      <th>Watermelon</th>\n",
       "      <td>NaN</td>\n",
       "      <td>5.0</td>\n",
       "    </tr>\n",
       "  </tbody>\n",
       "</table>\n",
       "</div>"
      ],
      "text/plain": [
       "           word  frequency\n",
       "Apple        사과        3.0\n",
       "Banana      바나나        NaN\n",
       "Carrot       당근        7.0\n",
       "Watermelon  NaN        5.0"
      ]
     },
     "execution_count": 70,
     "metadata": {},
     "output_type": "execute_result"
    }
   ],
   "source": [
    "summary"
   ]
  },
  {
   "cell_type": "code",
   "execution_count": 73,
   "id": "6e1a5fee-fc92-4bd1-8076-bd02545bf202",
   "metadata": {},
   "outputs": [
    {
     "data": {
      "text/html": [
       "<div>\n",
       "<style scoped>\n",
       "    .dataframe tbody tr th:only-of-type {\n",
       "        vertical-align: middle;\n",
       "    }\n",
       "\n",
       "    .dataframe tbody tr th {\n",
       "        vertical-align: top;\n",
       "    }\n",
       "\n",
       "    .dataframe thead th {\n",
       "        text-align: right;\n",
       "    }\n",
       "</style>\n",
       "<table border=\"1\" class=\"dataframe\">\n",
       "  <thead>\n",
       "    <tr style=\"text-align: right;\">\n",
       "      <th></th>\n",
       "      <th>word</th>\n",
       "      <th>frequency</th>\n",
       "      <th>importance</th>\n",
       "      <th>score</th>\n",
       "    </tr>\n",
       "  </thead>\n",
       "  <tbody>\n",
       "    <tr>\n",
       "      <th>Apple</th>\n",
       "      <td>사과</td>\n",
       "      <td>3</td>\n",
       "      <td>3</td>\n",
       "      <td>9</td>\n",
       "    </tr>\n",
       "    <tr>\n",
       "      <th>Banana</th>\n",
       "      <td>바나나</td>\n",
       "      <td>5</td>\n",
       "      <td>2</td>\n",
       "      <td>10</td>\n",
       "    </tr>\n",
       "    <tr>\n",
       "      <th>Carrot</th>\n",
       "      <td>당근</td>\n",
       "      <td>7</td>\n",
       "      <td>1</td>\n",
       "      <td>7</td>\n",
       "    </tr>\n",
       "  </tbody>\n",
       "</table>\n",
       "</div>"
      ],
      "text/plain": [
       "       word  frequency  importance  score\n",
       "Apple    사과          3           3      9\n",
       "Banana  바나나          5           2     10\n",
       "Carrot   당근          7           1      7"
      ]
     },
     "execution_count": 73,
     "metadata": {},
     "output_type": "execute_result"
    }
   ],
   "source": [
    "word_dict = {'Apple':'사과', 'Banana': '바나나', 'Carrot':'당근'}\n",
    "frequency_dict = {'Apple':3, 'Banana':5, 'Carrot':7}\n",
    "importance_dict={'Apple':3, 'Banana': 2, 'Carrot':1}\n",
    "\n",
    "word = pd.Series(word_dict)\n",
    "frequency = pd.Series(frequency_dict)\n",
    "importance = pd.Series(importance_dict)\n",
    "\n",
    "summary = pd.DataFrame({'word':word,'frequency':frequency,'importance': importance})\n",
    "\n",
    "score = summary['frequency'] * summary['importance']\n",
    "summary['score'] = score\n",
    "\n",
    "summary"
   ]
  },
  {
   "cell_type": "code",
   "execution_count": 75,
   "id": "11259868-a228-4cd8-94ed-a1fdd14798c4",
   "metadata": {},
   "outputs": [
    {
     "name": "stdout",
     "output_type": "stream",
     "text": [
      "        importance\n",
      "Banana           2\n",
      "Carrot           1\n"
     ]
    },
    {
     "data": {
      "text/html": [
       "<div>\n",
       "<style scoped>\n",
       "    .dataframe tbody tr th:only-of-type {\n",
       "        vertical-align: middle;\n",
       "    }\n",
       "\n",
       "    .dataframe tbody tr th {\n",
       "        vertical-align: top;\n",
       "    }\n",
       "\n",
       "    .dataframe thead th {\n",
       "        text-align: right;\n",
       "    }\n",
       "</style>\n",
       "<table border=\"1\" class=\"dataframe\">\n",
       "  <thead>\n",
       "    <tr style=\"text-align: right;\">\n",
       "      <th></th>\n",
       "      <th>importance</th>\n",
       "    </tr>\n",
       "  </thead>\n",
       "  <tbody>\n",
       "    <tr>\n",
       "      <th>Banana</th>\n",
       "      <td>2</td>\n",
       "    </tr>\n",
       "    <tr>\n",
       "      <th>Carrot</th>\n",
       "      <td>1</td>\n",
       "    </tr>\n",
       "  </tbody>\n",
       "</table>\n",
       "</div>"
      ],
      "text/plain": [
       "        importance\n",
       "Banana           2\n",
       "Carrot           1"
      ]
     },
     "execution_count": 75,
     "metadata": {},
     "output_type": "execute_result"
    }
   ],
   "source": [
    "word_dict = {'Apple':'사과', 'Banana': '바나나', 'Carrot':'당근', 'Durian':'두리안'}\n",
    "frequency_dict = {'Apple':3, 'Banana':5, 'Carrot':7, 'Durian':2}\n",
    "importance_dict={'Apple':3, 'Banana': 2, 'Carrot':1,'Durian':1}\n",
    "\n",
    "word = pd.Series(word_dict)\n",
    "frequency = pd.Series(frequency_dict)\n",
    "importance = pd.Series(importance_dict)\n",
    "\n",
    "summary = pd.DataFrame({'word':word,'frequency':frequency,'importance': importance})\n",
    "\n",
    "print(summary.loc['Banana':'Carrot', 'importance':])  # 이름을 기준으로 슬라이싱\n",
    "summary.iloc[1:3, 2:]"
   ]
  },
  {
   "cell_type": "code",
   "execution_count": 77,
   "id": "e6aa608e-0bee-48b3-928a-6c560f908d55",
   "metadata": {},
   "outputs": [
    {
     "name": "stdout",
     "output_type": "stream",
     "text": [
      "       word  frequency  importance\n",
      "Apple    사과          3           3\n",
      "Banana  바나나          5           2\n",
      "Carrot   당근          7           1\n",
      "Durian  두리안          2           1\n"
     ]
    },
    {
     "data": {
      "text/html": [
       "<div>\n",
       "<style scoped>\n",
       "    .dataframe tbody tr th:only-of-type {\n",
       "        vertical-align: middle;\n",
       "    }\n",
       "\n",
       "    .dataframe tbody tr th {\n",
       "        vertical-align: top;\n",
       "    }\n",
       "\n",
       "    .dataframe thead th {\n",
       "        text-align: right;\n",
       "    }\n",
       "</style>\n",
       "<table border=\"1\" class=\"dataframe\">\n",
       "  <thead>\n",
       "    <tr style=\"text-align: right;\">\n",
       "      <th></th>\n",
       "      <th>word</th>\n",
       "      <th>frequency</th>\n",
       "      <th>importance</th>\n",
       "    </tr>\n",
       "  </thead>\n",
       "  <tbody>\n",
       "    <tr>\n",
       "      <th>Apple</th>\n",
       "      <td>사과</td>\n",
       "      <td>3</td>\n",
       "      <td>5</td>\n",
       "    </tr>\n",
       "    <tr>\n",
       "      <th>Banana</th>\n",
       "      <td>바나나</td>\n",
       "      <td>5</td>\n",
       "      <td>2</td>\n",
       "    </tr>\n",
       "    <tr>\n",
       "      <th>Carrot</th>\n",
       "      <td>당근</td>\n",
       "      <td>7</td>\n",
       "      <td>1</td>\n",
       "    </tr>\n",
       "    <tr>\n",
       "      <th>Durian</th>\n",
       "      <td>두리안</td>\n",
       "      <td>2</td>\n",
       "      <td>1</td>\n",
       "    </tr>\n",
       "    <tr>\n",
       "      <th>Elderberry</th>\n",
       "      <td>엘더베리</td>\n",
       "      <td>5</td>\n",
       "      <td>3</td>\n",
       "    </tr>\n",
       "  </tbody>\n",
       "</table>\n",
       "</div>"
      ],
      "text/plain": [
       "            word  frequency  importance\n",
       "Apple         사과          3           5\n",
       "Banana       바나나          5           2\n",
       "Carrot        당근          7           1\n",
       "Durian       두리안          2           1\n",
       "Elderberry  엘더베리          5           3"
      ]
     },
     "execution_count": 77,
     "metadata": {},
     "output_type": "execute_result"
    }
   ],
   "source": [
    "word_dict = {'Apple':'사과', 'Banana': '바나나', 'Carrot':'당근', 'Durian':'두리안'}\n",
    "frequency_dict = {'Apple':3, 'Banana':5, 'Carrot':7, 'Durian':2}\n",
    "importance_dict={'Apple':3, 'Banana': 2, 'Carrot':1,'Durian':1}\n",
    "\n",
    "word = pd.Series(word_dict)\n",
    "frequency = pd.Series(frequency_dict)\n",
    "importance = pd.Series(importance_dict)\n",
    "\n",
    "summary = pd.DataFrame({'word':word,'frequency':frequency,'importance': importance})\n",
    "\n",
    "print(summary)\n",
    "summary.loc['Apple', 'importance'] = 5  # 이름을 기준으로 슬라이싱\n",
    "summary.loc['Elderberry'] = ['엘더베리', 5, 3]\n",
    "\n",
    "summary"
   ]
  },
  {
   "cell_type": "code",
   "execution_count": 79,
   "id": "95e26e88-23cc-413a-af51-75d9ef13d94e",
   "metadata": {},
   "outputs": [
    {
     "name": "stdout",
     "output_type": "stream",
     "text": [
      "       word  frequency  importance\n",
      "Apple    사과          3           3\n",
      "Banana  바나나          5           2\n",
      "Carrot   당근          7           1\n",
      "Durian  두리안          2           1\n"
     ]
    }
   ],
   "source": [
    "word_dict = {'Apple':'사과', 'Banana': '바나나', 'Carrot':'당근', 'Durian':'두리안'}\n",
    "frequency_dict = {'Apple':3, 'Banana':5, 'Carrot':7, 'Durian':2}\n",
    "importance_dict={'Apple':3, 'Banana': 2, 'Carrot':1,'Durian':1}\n",
    "\n",
    "word = pd.Series(word_dict)\n",
    "frequency = pd.Series(frequency_dict)\n",
    "importance = pd.Series(importance_dict)\n",
    "\n",
    "summary = pd.DataFrame({'word':word,'frequency':frequency,'importance': importance})\n",
    "\n",
    "summary.to_csv(\"summary.csv\", encoding=\"utf-8-sig\")\n",
    "saved = pd.read_csv(\"summary.csv\", index_col = 0)\n",
    "print(saved)"
   ]
  },
  {
   "cell_type": "code",
   "execution_count": 82,
   "id": "425233f8-782c-46b9-ab3d-f12d838a5cbd",
   "metadata": {},
   "outputs": [
    {
     "name": "stdout",
     "output_type": "stream",
     "text": [
      "         word  frequency  importance\n",
      "Apple   False      False       False\n",
      "Banana  False      False       False\n",
      "Carrot  False       True       False\n",
      "Durian  False      False       False\n"
     ]
    },
    {
     "data": {
      "text/html": [
       "<div>\n",
       "<style scoped>\n",
       "    .dataframe tbody tr th:only-of-type {\n",
       "        vertical-align: middle;\n",
       "    }\n",
       "\n",
       "    .dataframe tbody tr th {\n",
       "        vertical-align: top;\n",
       "    }\n",
       "\n",
       "    .dataframe thead th {\n",
       "        text-align: right;\n",
       "    }\n",
       "</style>\n",
       "<table border=\"1\" class=\"dataframe\">\n",
       "  <thead>\n",
       "    <tr style=\"text-align: right;\">\n",
       "      <th></th>\n",
       "      <th>word</th>\n",
       "      <th>frequency</th>\n",
       "      <th>importance</th>\n",
       "    </tr>\n",
       "  </thead>\n",
       "  <tbody>\n",
       "    <tr>\n",
       "      <th>Apple</th>\n",
       "      <td>사과</td>\n",
       "      <td>3.0</td>\n",
       "      <td>3</td>\n",
       "    </tr>\n",
       "    <tr>\n",
       "      <th>Banana</th>\n",
       "      <td>바나나</td>\n",
       "      <td>5.0</td>\n",
       "      <td>2</td>\n",
       "    </tr>\n",
       "    <tr>\n",
       "      <th>Carrot</th>\n",
       "      <td>당근</td>\n",
       "      <td>데이터없음</td>\n",
       "      <td>1</td>\n",
       "    </tr>\n",
       "    <tr>\n",
       "      <th>Durian</th>\n",
       "      <td>두리안</td>\n",
       "      <td>2.0</td>\n",
       "      <td>1</td>\n",
       "    </tr>\n",
       "  </tbody>\n",
       "</table>\n",
       "</div>"
      ],
      "text/plain": [
       "       word frequency  importance\n",
       "Apple    사과       3.0           3\n",
       "Banana  바나나       5.0           2\n",
       "Carrot   당근     데이터없음           1\n",
       "Durian  두리안       2.0           1"
      ]
     },
     "execution_count": 82,
     "metadata": {},
     "output_type": "execute_result"
    }
   ],
   "source": [
    "word_dict = {'Apple':'사과', 'Banana': '바나나', 'Carrot':'당근', 'Durian':'두리안'}\n",
    "frequency_dict = {'Apple':3, 'Banana':5, 'Carrot':np.nan, 'Durian':2}\n",
    "importance_dict={'Apple':3, 'Banana': 2, 'Carrot':1,'Durian':1}\n",
    "\n",
    "word = pd.Series(word_dict)\n",
    "frequency = pd.Series(frequency_dict)\n",
    "importance = pd.Series(importance_dict)\n",
    "\n",
    "summary = pd.DataFrame({'word':word,'frequency':frequency,'importance': importance})\n",
    "\n",
    "print(summary.isna())\n",
    "summary['frequency'] = summary['frequency'].fillna('데이터없음')\n",
    "summary"
   ]
  },
  {
   "cell_type": "code",
   "execution_count": 86,
   "id": "06136811-ec83-414c-9dbf-5c0a0543f908",
   "metadata": {},
   "outputs": [
    {
     "name": "stdout",
     "output_type": "stream",
     "text": [
      "A    NaN\n",
      "B    6.0\n",
      "C    8.0\n",
      "D    NaN\n",
      "dtype: float64\n"
     ]
    }
   ],
   "source": [
    "arr1 = pd.Series([1, 2, 3], index=['A', 'B', 'C'])\n",
    "arr2= pd.Series([4, 5, 6], index=['B', 'C', 'D'])\n",
    "\n",
    "arr1 = arr1.add(arr2)\n",
    "print(arr1)"
   ]
  },
  {
   "cell_type": "code",
   "execution_count": 89,
   "id": "0d6ab5ec-7638-4cae-83b4-f315f574cba3",
   "metadata": {},
   "outputs": [
    {
     "name": "stdout",
     "output_type": "stream",
     "text": [
      "   0  1\n",
      "A  1  2\n",
      "B  3  4\n",
      "   0  1  2\n",
      "B  1  2  3\n",
      "C  4  5  6\n",
      "D  7  8  9\n"
     ]
    },
    {
     "data": {
      "text/html": [
       "<div>\n",
       "<style scoped>\n",
       "    .dataframe tbody tr th:only-of-type {\n",
       "        vertical-align: middle;\n",
       "    }\n",
       "\n",
       "    .dataframe tbody tr th {\n",
       "        vertical-align: top;\n",
       "    }\n",
       "\n",
       "    .dataframe thead th {\n",
       "        text-align: right;\n",
       "    }\n",
       "</style>\n",
       "<table border=\"1\" class=\"dataframe\">\n",
       "  <thead>\n",
       "    <tr style=\"text-align: right;\">\n",
       "      <th></th>\n",
       "      <th>0</th>\n",
       "      <th>1</th>\n",
       "      <th>2</th>\n",
       "    </tr>\n",
       "  </thead>\n",
       "  <tbody>\n",
       "    <tr>\n",
       "      <th>A</th>\n",
       "      <td>1.0</td>\n",
       "      <td>2.0</td>\n",
       "      <td>NaN</td>\n",
       "    </tr>\n",
       "    <tr>\n",
       "      <th>B</th>\n",
       "      <td>4.0</td>\n",
       "      <td>6.0</td>\n",
       "      <td>3.0</td>\n",
       "    </tr>\n",
       "    <tr>\n",
       "      <th>C</th>\n",
       "      <td>4.0</td>\n",
       "      <td>5.0</td>\n",
       "      <td>6.0</td>\n",
       "    </tr>\n",
       "    <tr>\n",
       "      <th>D</th>\n",
       "      <td>7.0</td>\n",
       "      <td>8.0</td>\n",
       "      <td>9.0</td>\n",
       "    </tr>\n",
       "  </tbody>\n",
       "</table>\n",
       "</div>"
      ],
      "text/plain": [
       "     0    1    2\n",
       "A  1.0  2.0  NaN\n",
       "B  4.0  6.0  3.0\n",
       "C  4.0  5.0  6.0\n",
       "D  7.0  8.0  9.0"
      ]
     },
     "execution_count": 89,
     "metadata": {},
     "output_type": "execute_result"
    }
   ],
   "source": [
    "arr1 = pd.DataFrame([[1, 2],[3,4]], index=['A', 'B'])\n",
    "arr2= pd.DataFrame([[1, 2, 3],[4, 5, 6],[7,8,9]], index=['B', 'C', 'D'])\n",
    "\n",
    "print(arr1)\n",
    "print(arr2)\n",
    "    \n",
    "arr1 = arr1.add(arr2, fill_value=0)\n",
    "arr1"
   ]
  },
  {
   "cell_type": "code",
   "execution_count": 91,
   "id": "c86522e4-c4cd-4599-bde1-d0b9693a4d7a",
   "metadata": {},
   "outputs": [
    {
     "name": "stdout",
     "output_type": "stream",
     "text": [
      "     0    1    2\n",
      "A  1.0  2.0  NaN\n",
      "B  4.0  6.0  3.0\n",
      "C  4.0  5.0  6.0\n",
      "D  7.0  8.0  9.0\n",
      "컬럼 1의 합: 21.0\n",
      "0    16.0\n",
      "1    21.0\n",
      "2    18.0\n",
      "dtype: float64\n"
     ]
    }
   ],
   "source": [
    "arr1 = pd.DataFrame([[1, 2],[3,4]], index=['A', 'B'])\n",
    "arr2= pd.DataFrame([[1, 2, 3],[4, 5, 6],[7,8,9]], index=['B', 'C', 'D'])\n",
    "\n",
    "arr1 = arr1.add(arr2, fill_value=0)\n",
    "print(arr1)\n",
    "print(\"컬럼 1의 합:\", arr1[1].sum())\n",
    "print(arr1.sum())"
   ]
  },
  {
   "cell_type": "code",
   "execution_count": 92,
   "id": "6328febb-962f-48ba-83e1-2fe26edd882c",
   "metadata": {},
   "outputs": [
    {
     "data": {
      "text/html": [
       "<div>\n",
       "<style scoped>\n",
       "    .dataframe tbody tr th:only-of-type {\n",
       "        vertical-align: middle;\n",
       "    }\n",
       "\n",
       "    .dataframe tbody tr th {\n",
       "        vertical-align: top;\n",
       "    }\n",
       "\n",
       "    .dataframe thead th {\n",
       "        text-align: right;\n",
       "    }\n",
       "</style>\n",
       "<table border=\"1\" class=\"dataframe\">\n",
       "  <thead>\n",
       "    <tr style=\"text-align: right;\">\n",
       "      <th></th>\n",
       "      <th>word</th>\n",
       "      <th>frequency</th>\n",
       "      <th>importance</th>\n",
       "    </tr>\n",
       "  </thead>\n",
       "  <tbody>\n",
       "    <tr>\n",
       "      <th>Banana</th>\n",
       "      <td>바나나</td>\n",
       "      <td>5.0</td>\n",
       "      <td>2</td>\n",
       "    </tr>\n",
       "    <tr>\n",
       "      <th>Apple</th>\n",
       "      <td>사과</td>\n",
       "      <td>3.0</td>\n",
       "      <td>3</td>\n",
       "    </tr>\n",
       "    <tr>\n",
       "      <th>Durian</th>\n",
       "      <td>두리안</td>\n",
       "      <td>2.0</td>\n",
       "      <td>1</td>\n",
       "    </tr>\n",
       "    <tr>\n",
       "      <th>Carrot</th>\n",
       "      <td>당근</td>\n",
       "      <td>NaN</td>\n",
       "      <td>1</td>\n",
       "    </tr>\n",
       "  </tbody>\n",
       "</table>\n",
       "</div>"
      ],
      "text/plain": [
       "       word  frequency  importance\n",
       "Banana  바나나        5.0           2\n",
       "Apple    사과        3.0           3\n",
       "Durian  두리안        2.0           1\n",
       "Carrot   당근        NaN           1"
      ]
     },
     "execution_count": 92,
     "metadata": {},
     "output_type": "execute_result"
    }
   ],
   "source": [
    "word_dict = {'Apple':'사과', 'Banana': '바나나', 'Carrot':'당근', 'Durian':'두리안'}\n",
    "frequency_dict = {'Apple':3, 'Banana':5, 'Carrot':np.nan, 'Durian':2}\n",
    "importance_dict={'Apple':3, 'Banana': 2, 'Carrot':1,'Durian':1}\n",
    "\n",
    "word = pd.Series(word_dict)\n",
    "frequency = pd.Series(frequency_dict)\n",
    "importance = pd.Series(importance_dict)\n",
    "\n",
    "summary = pd.DataFrame({'word':word,'frequency':frequency,'importance': importance})\n",
    "\n",
    "summary = summary.sort_values('frequency', ascending=False)\n",
    "summary"
   ]
  },
  {
   "cell_type": "code",
   "execution_count": 93,
   "id": "5b3f602f-fdf6-4914-bb92-9ae40df6743e",
   "metadata": {},
   "outputs": [
    {
     "name": "stdout",
     "output_type": "stream",
     "text": [
      "   A  B\n",
      "0  6  2\n",
      "1  9  5\n",
      "0    False\n",
      "1    False\n",
      "Name: A, dtype: bool\n",
      "Empty DataFrame\n",
      "Columns: [A, B]\n",
      "Index: []\n"
     ]
    }
   ],
   "source": [
    "df = pd.DataFrame(np.random.randint(1, 10, (2,2)), index=[0,1], columns=[\"A\", \"B\"])\n",
    "\n",
    "print(df)\n",
    "\n",
    "print(df[\"A\"] <= 5)\n",
    "\n",
    "print(df.query(\"A <= 5 and B <= 8\"))"
   ]
  },
  {
   "cell_type": "code",
   "execution_count": 95,
   "id": "c5c34ae8-e157-498f-b718-37729e764ddb",
   "metadata": {},
   "outputs": [
    {
     "name": "stdout",
     "output_type": "stream",
     "text": [
      "   A  B  C  D\n",
      "0  1  2  3  4\n",
      "1  1  2  3  4\n",
      "   A  B  C  D\n",
      "0  2  3  4  5\n",
      "1  2  3  4  5\n",
      "   A  B  C  D\n",
      "0  3  4  5  6\n",
      "1  3  4  5  6\n"
     ]
    }
   ],
   "source": [
    "df = pd.DataFrame([[1,2,3,4], [1,2,3,4]], index=[0,1], columns=[\"A\", \"B\", \"C\", \"D\"])\n",
    "print(df)\n",
    "df = df.apply(lambda x : x+1)\n",
    "print(df)\n",
    "\n",
    "def addOne(x):\n",
    "    return x + 1\n",
    "\n",
    "df = df.apply(addOne)\n",
    "print(df)"
   ]
  },
  {
   "cell_type": "code",
   "execution_count": 102,
   "id": "0a4551cf-5976-4c67-95b4-4878530789f9",
   "metadata": {},
   "outputs": [
    {
     "name": "stdout",
     "output_type": "stream",
     "text": [
      "     Name  Frequency   Type\n",
      "0   Apple          7  Fruit\n",
      "1  Banana          3  Fruit\n",
      "2    Beef          5   Meal\n",
      "3  Kimchi          4   Meal\n",
      "       Frequency\n",
      "Type            \n",
      "Fruit         10\n",
      "Meal           9\n"
     ]
    }
   ],
   "source": [
    "df = pd.DataFrame([['Apple', 7, 'Fruit'],['Banana', 3, 'Fruit'], ['Beef', 5, 'Meal'], ['Kimchi',4,'Meal']], columns=['Name', 'Frequency', 'Type'])\n",
    "print(df)\n",
    "print(df.groupby(['Type']).sum())"
   ]
  },
  {
   "cell_type": "code",
   "execution_count": 105,
   "id": "e7420eb1-78ae-4b30-8a43-6dc1c42604a2",
   "metadata": {},
   "outputs": [
    {
     "name": "stdout",
     "output_type": "stream",
     "text": [
      "     Name  Frequency  Type Importance\n",
      "0   Apple          7     5      Fruit\n",
      "1  Banana          3     6      Fruit\n",
      "2    Beef          5     2       Meal\n",
      "3  Kimchi          4     8       Meal\n",
      "     Frequency            \n",
      "           min max average\n",
      "Type                      \n",
      "2            5   5     5.0\n",
      "5            7   7     7.0\n",
      "6            3   3     3.0\n",
      "8            4   4     4.0\n"
     ]
    },
    {
     "name": "stderr",
     "output_type": "stream",
     "text": [
      "C:\\Users\\042\\AppData\\Local\\Temp\\ipykernel_20736\\2009026406.py:3: FutureWarning: ['Name', 'Importance'] did not aggregate successfully. If any error is raised this will raise in a future version of pandas. Drop these columns/ops to avoid this warning.\n",
      "  print(df.groupby([\"Type\"]).aggregate([min, max, np.average]))\n"
     ]
    }
   ],
   "source": [
    "df = pd.DataFrame([['Apple', 7, 5, 'Fruit'],['Banana', 3, 6, 'Fruit'], ['Beef', 5, 2, 'Meal'], ['Kimchi',4, 8, 'Meal']], columns=[\"Name\", \"Frequency\", \"Type\", \"Importance\"])\n",
    "print(df)\n",
    "print(df.groupby([\"Type\"]).aggregate([min, max, np.average]))"
   ]
  },
  {
   "cell_type": "code",
   "execution_count": 110,
   "id": "fcfb8731-d557-481f-b446-66009abdc2b4",
   "metadata": {},
   "outputs": [
    {
     "name": "stdout",
     "output_type": "stream",
     "text": [
      "0.9929647961193003 0.011353644767419069\n"
     ]
    }
   ],
   "source": [
    "rand = np.random.random([10,10])\n",
    "print(rand.max(), rand.min())"
   ]
  },
  {
   "cell_type": "code",
   "execution_count": 120,
   "id": "edbd1f69-f1c6-46c0-a881-8abfe889aa10",
   "metadata": {},
   "outputs": [
    {
     "name": "stdout",
     "output_type": "stream",
     "text": [
      "[4 8 0 2 3 0 0 7 1 7]\n"
     ]
    }
   ],
   "source": [
    "# 주어진 값이 가까이 있는거 찾기. 차가 작은것. argmin() 사용?\n",
    "\n",
    "num = 7.3\n",
    "\n",
    "arr = np.random.randint(0, 10, 10)\n",
    "print(arr)"
   ]
  },
  {
   "cell_type": "code",
   "execution_count": 124,
   "id": "8d31e8ee-dd13-45fe-a917-e55998c1380f",
   "metadata": {},
   "outputs": [],
   "source": [
    "df = pd.read_csv('./datasets/fish.csv')"
   ]
  },
  {
   "cell_type": "code",
   "execution_count": 125,
   "id": "014006dc-1e59-4c49-8cdc-9ab571e220b7",
   "metadata": {},
   "outputs": [
    {
     "data": {
      "text/html": [
       "<div>\n",
       "<style scoped>\n",
       "    .dataframe tbody tr th:only-of-type {\n",
       "        vertical-align: middle;\n",
       "    }\n",
       "\n",
       "    .dataframe tbody tr th {\n",
       "        vertical-align: top;\n",
       "    }\n",
       "\n",
       "    .dataframe thead th {\n",
       "        text-align: right;\n",
       "    }\n",
       "</style>\n",
       "<table border=\"1\" class=\"dataframe\">\n",
       "  <thead>\n",
       "    <tr style=\"text-align: right;\">\n",
       "      <th></th>\n",
       "      <th>Species</th>\n",
       "      <th>Weight</th>\n",
       "      <th>Length1</th>\n",
       "      <th>Length2</th>\n",
       "      <th>Length3</th>\n",
       "      <th>Height</th>\n",
       "      <th>Width</th>\n",
       "    </tr>\n",
       "  </thead>\n",
       "  <tbody>\n",
       "    <tr>\n",
       "      <th>0</th>\n",
       "      <td>Bream</td>\n",
       "      <td>242.0</td>\n",
       "      <td>23.2</td>\n",
       "      <td>25.4</td>\n",
       "      <td>30.0</td>\n",
       "      <td>11.5200</td>\n",
       "      <td>4.0200</td>\n",
       "    </tr>\n",
       "    <tr>\n",
       "      <th>1</th>\n",
       "      <td>Bream</td>\n",
       "      <td>290.0</td>\n",
       "      <td>24.0</td>\n",
       "      <td>26.3</td>\n",
       "      <td>31.2</td>\n",
       "      <td>12.4800</td>\n",
       "      <td>4.3056</td>\n",
       "    </tr>\n",
       "    <tr>\n",
       "      <th>2</th>\n",
       "      <td>Bream</td>\n",
       "      <td>340.0</td>\n",
       "      <td>23.9</td>\n",
       "      <td>26.5</td>\n",
       "      <td>31.1</td>\n",
       "      <td>12.3778</td>\n",
       "      <td>4.6961</td>\n",
       "    </tr>\n",
       "    <tr>\n",
       "      <th>3</th>\n",
       "      <td>Bream</td>\n",
       "      <td>363.0</td>\n",
       "      <td>26.3</td>\n",
       "      <td>29.0</td>\n",
       "      <td>33.5</td>\n",
       "      <td>12.7300</td>\n",
       "      <td>4.4555</td>\n",
       "    </tr>\n",
       "    <tr>\n",
       "      <th>4</th>\n",
       "      <td>Bream</td>\n",
       "      <td>430.0</td>\n",
       "      <td>26.5</td>\n",
       "      <td>29.0</td>\n",
       "      <td>34.0</td>\n",
       "      <td>12.4440</td>\n",
       "      <td>5.1340</td>\n",
       "    </tr>\n",
       "  </tbody>\n",
       "</table>\n",
       "</div>"
      ],
      "text/plain": [
       "  Species  Weight  Length1  Length2  Length3   Height   Width\n",
       "0   Bream   242.0     23.2     25.4     30.0  11.5200  4.0200\n",
       "1   Bream   290.0     24.0     26.3     31.2  12.4800  4.3056\n",
       "2   Bream   340.0     23.9     26.5     31.1  12.3778  4.6961\n",
       "3   Bream   363.0     26.3     29.0     33.5  12.7300  4.4555\n",
       "4   Bream   430.0     26.5     29.0     34.0  12.4440  5.1340"
      ]
     },
     "execution_count": 125,
     "metadata": {},
     "output_type": "execute_result"
    }
   ],
   "source": [
    "df.head()"
   ]
  },
  {
   "cell_type": "code",
   "execution_count": 126,
   "id": "f692c0e8-0514-427d-b88c-059e07273a69",
   "metadata": {},
   "outputs": [
    {
     "data": {
      "text/html": [
       "<div>\n",
       "<style scoped>\n",
       "    .dataframe tbody tr th:only-of-type {\n",
       "        vertical-align: middle;\n",
       "    }\n",
       "\n",
       "    .dataframe tbody tr th {\n",
       "        vertical-align: top;\n",
       "    }\n",
       "\n",
       "    .dataframe thead th {\n",
       "        text-align: right;\n",
       "    }\n",
       "</style>\n",
       "<table border=\"1\" class=\"dataframe\">\n",
       "  <thead>\n",
       "    <tr style=\"text-align: right;\">\n",
       "      <th></th>\n",
       "      <th>Weight</th>\n",
       "      <th>Length1</th>\n",
       "      <th>Length2</th>\n",
       "      <th>Length3</th>\n",
       "      <th>Height</th>\n",
       "      <th>Width</th>\n",
       "    </tr>\n",
       "  </thead>\n",
       "  <tbody>\n",
       "    <tr>\n",
       "      <th>count</th>\n",
       "      <td>159.000000</td>\n",
       "      <td>159.000000</td>\n",
       "      <td>159.000000</td>\n",
       "      <td>159.000000</td>\n",
       "      <td>159.000000</td>\n",
       "      <td>159.000000</td>\n",
       "    </tr>\n",
       "    <tr>\n",
       "      <th>mean</th>\n",
       "      <td>398.326415</td>\n",
       "      <td>26.247170</td>\n",
       "      <td>28.415723</td>\n",
       "      <td>31.227044</td>\n",
       "      <td>8.970994</td>\n",
       "      <td>4.417486</td>\n",
       "    </tr>\n",
       "    <tr>\n",
       "      <th>std</th>\n",
       "      <td>357.978317</td>\n",
       "      <td>9.996441</td>\n",
       "      <td>10.716328</td>\n",
       "      <td>11.610246</td>\n",
       "      <td>4.286208</td>\n",
       "      <td>1.685804</td>\n",
       "    </tr>\n",
       "    <tr>\n",
       "      <th>min</th>\n",
       "      <td>0.000000</td>\n",
       "      <td>7.500000</td>\n",
       "      <td>8.400000</td>\n",
       "      <td>8.800000</td>\n",
       "      <td>1.728400</td>\n",
       "      <td>1.047600</td>\n",
       "    </tr>\n",
       "    <tr>\n",
       "      <th>25%</th>\n",
       "      <td>120.000000</td>\n",
       "      <td>19.050000</td>\n",
       "      <td>21.000000</td>\n",
       "      <td>23.150000</td>\n",
       "      <td>5.944800</td>\n",
       "      <td>3.385650</td>\n",
       "    </tr>\n",
       "    <tr>\n",
       "      <th>50%</th>\n",
       "      <td>273.000000</td>\n",
       "      <td>25.200000</td>\n",
       "      <td>27.300000</td>\n",
       "      <td>29.400000</td>\n",
       "      <td>7.786000</td>\n",
       "      <td>4.248500</td>\n",
       "    </tr>\n",
       "    <tr>\n",
       "      <th>75%</th>\n",
       "      <td>650.000000</td>\n",
       "      <td>32.700000</td>\n",
       "      <td>35.500000</td>\n",
       "      <td>39.650000</td>\n",
       "      <td>12.365900</td>\n",
       "      <td>5.584500</td>\n",
       "    </tr>\n",
       "    <tr>\n",
       "      <th>max</th>\n",
       "      <td>1650.000000</td>\n",
       "      <td>59.000000</td>\n",
       "      <td>63.400000</td>\n",
       "      <td>68.000000</td>\n",
       "      <td>18.957000</td>\n",
       "      <td>8.142000</td>\n",
       "    </tr>\n",
       "  </tbody>\n",
       "</table>\n",
       "</div>"
      ],
      "text/plain": [
       "            Weight     Length1     Length2     Length3      Height       Width\n",
       "count   159.000000  159.000000  159.000000  159.000000  159.000000  159.000000\n",
       "mean    398.326415   26.247170   28.415723   31.227044    8.970994    4.417486\n",
       "std     357.978317    9.996441   10.716328   11.610246    4.286208    1.685804\n",
       "min       0.000000    7.500000    8.400000    8.800000    1.728400    1.047600\n",
       "25%     120.000000   19.050000   21.000000   23.150000    5.944800    3.385650\n",
       "50%     273.000000   25.200000   27.300000   29.400000    7.786000    4.248500\n",
       "75%     650.000000   32.700000   35.500000   39.650000   12.365900    5.584500\n",
       "max    1650.000000   59.000000   63.400000   68.000000   18.957000    8.142000"
      ]
     },
     "execution_count": 126,
     "metadata": {},
     "output_type": "execute_result"
    }
   ],
   "source": [
    "df.describe()"
   ]
  },
  {
   "cell_type": "code",
   "execution_count": 127,
   "id": "14f9f260-59f5-40f3-ac0b-2df274d1a7ff",
   "metadata": {},
   "outputs": [
    {
     "data": {
      "text/plain": [
       "pandas.core.frame.DataFrame"
      ]
     },
     "execution_count": 127,
     "metadata": {},
     "output_type": "execute_result"
    }
   ],
   "source": [
    "type(df)"
   ]
  },
  {
   "cell_type": "code",
   "execution_count": null,
   "id": "864fb11a-cf32-46af-82b2-3c863d5817bf",
   "metadata": {},
   "outputs": [],
   "source": []
  }
 ],
 "metadata": {
  "kernelspec": {
   "display_name": "myml2",
   "language": "python",
   "name": "myml2"
  },
  "language_info": {
   "codemirror_mode": {
    "name": "ipython",
    "version": 3
   },
   "file_extension": ".py",
   "mimetype": "text/x-python",
   "name": "python",
   "nbconvert_exporter": "python",
   "pygments_lexer": "ipython3",
   "version": "3.8.0"
  }
 },
 "nbformat": 4,
 "nbformat_minor": 5
}
