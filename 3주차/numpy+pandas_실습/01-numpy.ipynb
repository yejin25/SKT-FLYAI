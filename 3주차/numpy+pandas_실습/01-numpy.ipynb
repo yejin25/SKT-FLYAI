{
 "cells": [
  {
   "cell_type": "markdown",
   "id": "a80ffd92-ace4-4193-83d9-0a642ac3ad2a",
   "metadata": {},
   "source": [
    "### Numpy tutorial"
   ]
  },
  {
   "cell_type": "code",
   "execution_count": 4,
   "id": "fe6e8757-d5aa-4a9a-bf43-8411d07a7518",
   "metadata": {},
   "outputs": [
    {
     "name": "stdout",
     "output_type": "stream",
     "text": [
      "Collecting numpy\n",
      "  Downloading numpy-1.23.1-cp38-cp38-win_amd64.whl (14.7 MB)\n",
      "     --------------------------------------- 14.7/14.7 MB 16.4 MB/s eta 0:00:00\n",
      "Installing collected packages: numpy\n",
      "Successfully installed numpy-1.23.1\n"
     ]
    }
   ],
   "source": [
    "!pip install numpy"
   ]
  },
  {
   "cell_type": "code",
   "execution_count": 5,
   "id": "10241632-9b4c-46fd-989b-c6b9441c1f49",
   "metadata": {},
   "outputs": [
    {
     "data": {
      "text/plain": [
       "'1.23.1'"
      ]
     },
     "execution_count": 5,
     "metadata": {},
     "output_type": "execute_result"
    }
   ],
   "source": [
    "import numpy as np\n",
    "\n",
    "np.__version__"
   ]
  },
  {
   "cell_type": "code",
   "execution_count": 6,
   "id": "241b893e-9063-4a30-8575-4eccc74910ec",
   "metadata": {},
   "outputs": [
    {
     "data": {
      "text/plain": [
       "list"
      ]
     },
     "execution_count": 6,
     "metadata": {},
     "output_type": "execute_result"
    }
   ],
   "source": [
    "a = []\n",
    "\n",
    "type(a)"
   ]
  },
  {
   "cell_type": "markdown",
   "id": "cd0f95b4-6e05-4fd4-9b21-84602e01c5cb",
   "metadata": {},
   "source": [
    "[numpy 관련 사이트]\n",
    "\n",
    "https://velog.io/@mingki/Numpy-%EB%84%98%ED%8C%8C%EC%9D%B4\n",
    "\n",
    "___"
   ]
  },
  {
   "cell_type": "markdown",
   "id": "09198cc6-100a-4597-b4d2-3756b01f53c2",
   "metadata": {},
   "source": [
    "## ndarray 클래스"
   ]
  },
  {
   "cell_type": "code",
   "execution_count": 8,
   "id": "caba8eef-b387-4300-aa35-6bc1e7422029",
   "metadata": {},
   "outputs": [
    {
     "name": "stdout",
     "output_type": "stream",
     "text": [
      "[23 45 56 76]\n"
     ]
    },
    {
     "data": {
      "text/plain": [
       "array([23, 45, 56, 76])"
      ]
     },
     "execution_count": 8,
     "metadata": {},
     "output_type": "execute_result"
    }
   ],
   "source": [
    "xarr = np.array([23, 45, 56, 76])\n",
    "\n",
    "print(xarr)\n",
    "\n",
    "xarr"
   ]
  },
  {
   "cell_type": "code",
   "execution_count": 9,
   "id": "49bce93e-830b-42ef-a415-b63049af0b9e",
   "metadata": {},
   "outputs": [
    {
     "data": {
      "text/plain": [
       "numpy.ndarray"
      ]
     },
     "execution_count": 9,
     "metadata": {},
     "output_type": "execute_result"
    }
   ],
   "source": [
    "type(xarr)"
   ]
  },
  {
   "cell_type": "code",
   "execution_count": 10,
   "id": "2056af25-ffc8-4d64-8465-6a2486ca0ee9",
   "metadata": {},
   "outputs": [
    {
     "data": {
      "text/plain": [
       "(4,)"
      ]
     },
     "execution_count": 10,
     "metadata": {},
     "output_type": "execute_result"
    }
   ],
   "source": [
    "xarr.shape"
   ]
  },
  {
   "cell_type": "code",
   "execution_count": 14,
   "id": "9ead52b1-95be-4eea-bfa1-e3ef6713fd8e",
   "metadata": {},
   "outputs": [
    {
     "data": {
      "text/plain": [
       "dtype('int32')"
      ]
     },
     "execution_count": 14,
     "metadata": {},
     "output_type": "execute_result"
    }
   ],
   "source": [
    "xarr.dtype\n",
    "\n",
    "# int32, int64, float32, float64"
   ]
  },
  {
   "cell_type": "code",
   "execution_count": 18,
   "id": "10a7ae2f-407e-48d1-9a72-eb8b0ac192c1",
   "metadata": {},
   "outputs": [
    {
     "data": {
      "text/plain": [
       "4"
      ]
     },
     "execution_count": 18,
     "metadata": {},
     "output_type": "execute_result"
    }
   ],
   "source": [
    "xarr.size\n",
    "\n",
    "# 요소 개수"
   ]
  },
  {
   "cell_type": "code",
   "execution_count": 23,
   "id": "a2e0906b-eedb-4d59-9f72-5e17c8e03029",
   "metadata": {},
   "outputs": [
    {
     "data": {
      "text/plain": [
       "4"
      ]
     },
     "execution_count": 23,
     "metadata": {},
     "output_type": "execute_result"
    }
   ],
   "source": [
    "xarr.itemsize\n",
    "\n",
    "# byte"
   ]
  },
  {
   "cell_type": "code",
   "execution_count": 25,
   "id": "7e64f64c-b244-4352-b694-4145f23f06ed",
   "metadata": {},
   "outputs": [
    {
     "data": {
      "text/plain": [
       "16"
      ]
     },
     "execution_count": 25,
     "metadata": {},
     "output_type": "execute_result"
    }
   ],
   "source": [
    "xarr.itemsize * xarr.size\n",
    "\n",
    "# 메모리 사이즈"
   ]
  },
  {
   "cell_type": "code",
   "execution_count": 31,
   "id": "730a2df9-ed47-4ef4-b2e1-fc60509ceba2",
   "metadata": {},
   "outputs": [
    {
     "data": {
      "text/plain": [
       "(3, 2, 2)"
      ]
     },
     "execution_count": 31,
     "metadata": {},
     "output_type": "execute_result"
    }
   ],
   "source": [
    "yarr = np.array([[[1,2],[3, 4]],[[5, 6], [7, 8]],[[9,10],[11,12]]]) # 3차원\n",
    "# 2차원  np.array([[10, 11],[12, 13],[15, 16]])\n",
    "yarr.shape"
   ]
  },
  {
   "cell_type": "code",
   "execution_count": 32,
   "id": "c4b9abce-9858-4a8f-b709-24ad4c6e9c15",
   "metadata": {},
   "outputs": [
    {
     "data": {
      "text/plain": [
       "array([[[ 1,  2],\n",
       "        [ 3,  4]],\n",
       "\n",
       "       [[ 5,  6],\n",
       "        [ 7,  8]],\n",
       "\n",
       "       [[ 9, 10],\n",
       "        [11, 12]]])"
      ]
     },
     "execution_count": 32,
     "metadata": {},
     "output_type": "execute_result"
    }
   ],
   "source": [
    "yarr"
   ]
  },
  {
   "cell_type": "code",
   "execution_count": 33,
   "id": "19d6a191-9c91-4fe6-8426-03fc51652963",
   "metadata": {},
   "outputs": [
    {
     "data": {
      "text/plain": [
       "dtype('int32')"
      ]
     },
     "execution_count": 33,
     "metadata": {},
     "output_type": "execute_result"
    }
   ],
   "source": [
    "yarr.dtype"
   ]
  },
  {
   "cell_type": "code",
   "execution_count": 34,
   "id": "42d06247-8a7a-45d0-9e23-41944d158057",
   "metadata": {},
   "outputs": [
    {
     "data": {
      "text/plain": [
       "numpy.ndarray"
      ]
     },
     "execution_count": 34,
     "metadata": {},
     "output_type": "execute_result"
    }
   ],
   "source": [
    "type(yarr)"
   ]
  },
  {
   "cell_type": "code",
   "execution_count": 35,
   "id": "850afbcc-4723-435a-b422-dba8072f52b7",
   "metadata": {},
   "outputs": [
    {
     "data": {
      "text/plain": [
       "array([[[ 1.,  2.],\n",
       "        [ 3.,  4.]],\n",
       "\n",
       "       [[ 5.,  6.],\n",
       "        [ 7.,  8.]],\n",
       "\n",
       "       [[ 9., 10.],\n",
       "        [11., 12.]]], dtype=float32)"
      ]
     },
     "execution_count": 35,
     "metadata": {},
     "output_type": "execute_result"
    }
   ],
   "source": [
    "yarr.astype('float32')"
   ]
  },
  {
   "cell_type": "code",
   "execution_count": 36,
   "id": "9a863f92-a7fb-4ef6-a173-44a2d900a615",
   "metadata": {},
   "outputs": [
    {
     "data": {
      "text/plain": [
       "dtype('int32')"
      ]
     },
     "execution_count": 36,
     "metadata": {},
     "output_type": "execute_result"
    }
   ],
   "source": [
    "yarr.dtype"
   ]
  },
  {
   "cell_type": "code",
   "execution_count": 37,
   "id": "3beba404-4324-4106-836b-beedbfd84458",
   "metadata": {},
   "outputs": [],
   "source": [
    "yarr = yarr.astype('float32')"
   ]
  },
  {
   "cell_type": "code",
   "execution_count": 38,
   "id": "6f5d89a0-1593-434d-b1f6-40d8fc1e138c",
   "metadata": {},
   "outputs": [
    {
     "data": {
      "text/plain": [
       "dtype('float32')"
      ]
     },
     "execution_count": 38,
     "metadata": {},
     "output_type": "execute_result"
    }
   ],
   "source": [
    "yarr.dtype"
   ]
  },
  {
   "cell_type": "code",
   "execution_count": 41,
   "id": "800adbf4-340e-4531-8ceb-177c0c62079e",
   "metadata": {},
   "outputs": [
    {
     "data": {
      "text/plain": [
       "dtype('int32')"
      ]
     },
     "execution_count": 41,
     "metadata": {},
     "output_type": "execute_result"
    }
   ],
   "source": [
    "xarr = np.array([23., 45., 56., 76.], dtype='int32') # float64 -> int32\n",
    "xarr.dtype"
   ]
  },
  {
   "cell_type": "code",
   "execution_count": 75,
   "id": "8210655c-cd84-4ebc-bfac-4f6f865e8137",
   "metadata": {},
   "outputs": [
    {
     "data": {
      "text/plain": [
       "(3, 2, 2)"
      ]
     },
     "execution_count": 75,
     "metadata": {},
     "output_type": "execute_result"
    }
   ],
   "source": [
    "yarr = np.array([[[1,2],[3, 4]],\n",
    "                 [[5, 6], [7, 8]],\n",
    "                 [[9,10],[11,12]]]) # 3차원\n",
    "yarr.shape"
   ]
  },
  {
   "cell_type": "code",
   "execution_count": 76,
   "id": "f697428f-eae0-4ef8-a766-4d2146cdac4a",
   "metadata": {},
   "outputs": [
    {
     "data": {
      "text/plain": [
       "(1, 3, 2, 2)"
      ]
     },
     "execution_count": 76,
     "metadata": {},
     "output_type": "execute_result"
    }
   ],
   "source": [
    "yarr = yarr.reshape(1, 3, 2, 2)\n",
    "yarr.shape"
   ]
  },
  {
   "cell_type": "code",
   "execution_count": 77,
   "id": "63e0507b-296f-4c61-9527-829a140514b7",
   "metadata": {},
   "outputs": [
    {
     "data": {
      "text/plain": [
       "array([[[[ 1,  2],\n",
       "         [ 3,  4]],\n",
       "\n",
       "        [[ 5,  6],\n",
       "         [ 7,  8]],\n",
       "\n",
       "        [[ 9, 10],\n",
       "         [11, 12]]]])"
      ]
     },
     "execution_count": 77,
     "metadata": {},
     "output_type": "execute_result"
    }
   ],
   "source": [
    "yarr"
   ]
  },
  {
   "cell_type": "code",
   "execution_count": 78,
   "id": "6bdff16c-c3c4-4fe7-aaac-03752b9ec299",
   "metadata": {},
   "outputs": [
    {
     "data": {
      "text/plain": [
       "(1, 3, 2, 2)"
      ]
     },
     "execution_count": 78,
     "metadata": {},
     "output_type": "execute_result"
    }
   ],
   "source": [
    "yarr = yarr.reshape(-1, 3, 2, 2)\n",
    "# 첫번째 인자 -1 -> reshape 한테 차원을 추가시키고 값은 알아서 넣어줘?\n",
    "yarr.shape"
   ]
  },
  {
   "cell_type": "code",
   "execution_count": 79,
   "id": "8785a7ca-83bf-4dad-830f-f8524a054df2",
   "metadata": {},
   "outputs": [
    {
     "data": {
      "text/plain": [
       "(3, 2, 2)"
      ]
     },
     "execution_count": 79,
     "metadata": {},
     "output_type": "execute_result"
    }
   ],
   "source": [
    "yarr.reshape(-1, 2, 2).shape\n",
    "# -1 -> 3 으로 reshpae 가 넣어줌 (배치 수는 맡김)"
   ]
  },
  {
   "cell_type": "code",
   "execution_count": 80,
   "id": "0872aa33-1144-4b86-8ae9-bf62a4656e90",
   "metadata": {},
   "outputs": [
    {
     "data": {
      "text/plain": [
       "array([ 1,  2,  3,  4,  5,  6,  7,  8,  9, 10, 11, 12])"
      ]
     },
     "execution_count": 80,
     "metadata": {},
     "output_type": "execute_result"
    }
   ],
   "source": [
    "yarr.flatten()"
   ]
  },
  {
   "cell_type": "code",
   "execution_count": 81,
   "id": "d592e835-1795-43c8-90ef-e73eb761cdf7",
   "metadata": {},
   "outputs": [
    {
     "data": {
      "text/plain": [
       "array([ 1,  2,  3,  4,  5,  6,  7,  8,  9, 10, 11, 12])"
      ]
     },
     "execution_count": 81,
     "metadata": {},
     "output_type": "execute_result"
    }
   ],
   "source": [
    "yarr.reshape(-1) # flatten() 모르면 이와 같이 작성하여 확인 가능"
   ]
  },
  {
   "cell_type": "code",
   "execution_count": 82,
   "id": "9ca79876-7c76-4d03-b8c8-93de90403b61",
   "metadata": {},
   "outputs": [
    {
     "data": {
      "text/plain": [
       "(1, 3, 2, 2)"
      ]
     },
     "execution_count": 82,
     "metadata": {},
     "output_type": "execute_result"
    }
   ],
   "source": [
    "yarr.shape"
   ]
  },
  {
   "cell_type": "code",
   "execution_count": 85,
   "id": "b5266dc6-1674-43ea-9099-bf88739a5f88",
   "metadata": {},
   "outputs": [
    {
     "data": {
      "text/plain": [
       "(1, 1, 3, 2, 2)"
      ]
     },
     "execution_count": 85,
     "metadata": {},
     "output_type": "execute_result"
    }
   ],
   "source": [
    "yarr[np.newaxis, :].shape # reshape 다르게 작성"
   ]
  },
  {
   "cell_type": "markdown",
   "id": "881f134b-00a1-4531-b4fb-731ed9cdd480",
   "metadata": {},
   "source": [
    "값 하나하나 읽어오는데 **indexing**\n",
    "\n",
    "어떤 조건을 주고 해당 좋건에 맞는 값만 가져오는게 **slicing**\n",
    "\n",
    "___"
   ]
  },
  {
   "cell_type": "code",
   "execution_count": 88,
   "id": "b9647fc9-cbdc-4f17-97d2-a5a6e8c70623",
   "metadata": {},
   "outputs": [
    {
     "data": {
      "text/plain": [
       "[0, 1, 2, 3, 4, 5, 6, 7, 8, 9]"
      ]
     },
     "execution_count": 88,
     "metadata": {},
     "output_type": "execute_result"
    }
   ],
   "source": [
    "list(range(10))"
   ]
  },
  {
   "cell_type": "code",
   "execution_count": 94,
   "id": "a9d67eaf-1fb2-49e7-a001-4b9771b6bd44",
   "metadata": {},
   "outputs": [
    {
     "data": {
      "text/plain": [
       "array([[0, 1],\n",
       "       [2, 3],\n",
       "       [4, 5],\n",
       "       [6, 7],\n",
       "       [8, 9]])"
      ]
     },
     "execution_count": 94,
     "metadata": {},
     "output_type": "execute_result"
    }
   ],
   "source": [
    "xarr = np.arange(10).reshape(5, 2)\n",
    "xarr"
   ]
  },
  {
   "cell_type": "code",
   "execution_count": 95,
   "id": "11c9a097-3539-44c0-badc-2e42ec9e8560",
   "metadata": {},
   "outputs": [
    {
     "data": {
      "text/plain": [
       "array([0, 2, 4, 6, 8])"
      ]
     },
     "execution_count": 95,
     "metadata": {},
     "output_type": "execute_result"
    }
   ],
   "source": [
    "xarr = np.arange(0, 10, 2)\n",
    "xarr"
   ]
  },
  {
   "cell_type": "code",
   "execution_count": 97,
   "id": "e30b17f6-ccf9-4b5d-a15e-ba9cd3bcaf7d",
   "metadata": {},
   "outputs": [
    {
     "data": {
      "text/plain": [
       "array([ 0.        ,  1.42857143,  2.85714286,  4.28571429,  5.71428571,\n",
       "        7.14285714,  8.57142857, 10.        ])"
      ]
     },
     "execution_count": 97,
     "metadata": {},
     "output_type": "execute_result"
    }
   ],
   "source": [
    "np.linspace(0, 10, 8) # 0~10 의 숫자 8개"
   ]
  },
  {
   "cell_type": "code",
   "execution_count": 98,
   "id": "a3e33d44-214c-4a95-b561-9c975497fa17",
   "metadata": {},
   "outputs": [
    {
     "data": {
      "text/plain": [
       "array([[0, 0, 0],\n",
       "       [0, 0, 0]])"
      ]
     },
     "execution_count": 98,
     "metadata": {},
     "output_type": "execute_result"
    }
   ],
   "source": [
    "np.full((2, 3), 0)"
   ]
  },
  {
   "cell_type": "code",
   "execution_count": 99,
   "id": "97506319-7fc0-4083-9b69-90da7ce380d5",
   "metadata": {},
   "outputs": [
    {
     "data": {
      "text/plain": [
       "array([[0., 0., 0.],\n",
       "       [0., 0., 0.]])"
      ]
     },
     "execution_count": 99,
     "metadata": {},
     "output_type": "execute_result"
    }
   ],
   "source": [
    "np.zeros((2, 3))"
   ]
  },
  {
   "cell_type": "code",
   "execution_count": 100,
   "id": "c33db46a-3aa5-45a0-a15a-6f474b83c065",
   "metadata": {},
   "outputs": [
    {
     "data": {
      "text/plain": [
       "(1, 3, 2, 2)"
      ]
     },
     "execution_count": 100,
     "metadata": {},
     "output_type": "execute_result"
    }
   ],
   "source": [
    "yarr.shape"
   ]
  },
  {
   "cell_type": "code",
   "execution_count": 106,
   "id": "3d76575b-9a6a-4c8a-9afd-1b8f543496c2",
   "metadata": {},
   "outputs": [
    {
     "data": {
      "text/plain": [
       "array([[[ 1,  2],\n",
       "        [ 3,  4]],\n",
       "\n",
       "       [[ 5,  6],\n",
       "        [ 7,  8]],\n",
       "\n",
       "       [[ 9, 10],\n",
       "        [11, 12]]])"
      ]
     },
     "execution_count": 106,
     "metadata": {},
     "output_type": "execute_result"
    }
   ],
   "source": [
    "yarr = yarr.reshape(3,2,2)\n",
    "yarr"
   ]
  },
  {
   "cell_type": "code",
   "execution_count": 104,
   "id": "d01a25ac-31c6-45cd-9e91-5d0543bef810",
   "metadata": {},
   "outputs": [
    {
     "data": {
      "text/plain": [
       "array([[[0, 0],\n",
       "        [0, 0]],\n",
       "\n",
       "       [[0, 0],\n",
       "        [0, 0]],\n",
       "\n",
       "       [[0, 0],\n",
       "        [0, 0]]])"
      ]
     },
     "execution_count": 104,
     "metadata": {},
     "output_type": "execute_result"
    }
   ],
   "source": [
    "np.zeros_like(yarr) # yarr과 같은 배열구조를 0으로 채워 만듦"
   ]
  },
  {
   "cell_type": "markdown",
   "id": "4096edc7-0d41-434e-87c2-521ffe63e7b8",
   "metadata": {},
   "source": [
    "## random"
   ]
  },
  {
   "cell_type": "code",
   "execution_count": 109,
   "id": "72d8dd9e-44b0-4da3-bb6f-614a66620ba0",
   "metadata": {},
   "outputs": [
    {
     "data": {
      "text/plain": [
       "array([6.61387693, 1.06343344, 2.99173668, 1.07768543, 0.65039349,\n",
       "       8.80982263, 8.48444742, 7.33680513, 9.81231993, 8.75238301])"
      ]
     },
     "execution_count": 109,
     "metadata": {},
     "output_type": "execute_result"
    }
   ],
   "source": [
    "np.random.uniform(0, 10, 10) # 같은 확률로 숫자 하나를 뽑는다"
   ]
  },
  {
   "cell_type": "code",
   "execution_count": 114,
   "id": "6f77c89e-1689-47e7-8431-e996bce11669",
   "metadata": {},
   "outputs": [
    {
     "data": {
      "text/plain": [
       "array([5.28795934, 5.76258864, 5.65090591, 2.99568414, 5.50098131,\n",
       "       2.23776215, 4.10574087, 5.52848507, 4.73512478, 4.02474445])"
      ]
     },
     "execution_count": 114,
     "metadata": {},
     "output_type": "execute_result"
    }
   ],
   "source": [
    "np.random.normal(5, 1, 10)  # 정규 분포 (평균, 표준편차, 숫자개수)"
   ]
  },
  {
   "cell_type": "code",
   "execution_count": 116,
   "id": "35445fde-d045-4cad-8230-303d3d2e8f30",
   "metadata": {},
   "outputs": [
    {
     "data": {
      "text/plain": [
       "array([[-0.08023808, -0.65413371, -0.56782216],\n",
       "       [ 0.31570141,  0.53900135, -0.74931154]])"
      ]
     },
     "execution_count": 116,
     "metadata": {},
     "output_type": "execute_result"
    }
   ],
   "source": [
    "np.random.randn(2,3)  # 표준 정규 분포 (평균=0,표준편차=1) randn(차원)"
   ]
  },
  {
   "cell_type": "markdown",
   "id": "8e85d758-17e4-47fc-a533-42a7f39dda17",
   "metadata": {},
   "source": [
    "## 함수"
   ]
  },
  {
   "cell_type": "code",
   "execution_count": 118,
   "id": "a49433f2-3186-488f-8e7d-ff004db0e411",
   "metadata": {},
   "outputs": [
    {
     "data": {
      "text/plain": [
       "array([[ 0,  1,  2,  3],\n",
       "       [ 4,  5,  6,  7],\n",
       "       [ 8,  9, 10, 11]])"
      ]
     },
     "execution_count": 118,
     "metadata": {},
     "output_type": "execute_result"
    }
   ],
   "source": [
    "xarr = np.arange(0, 12).reshape(3, 4)\n",
    "xarr"
   ]
  },
  {
   "cell_type": "code",
   "execution_count": 120,
   "id": "084cccb7-1be2-4479-8806-505cee5de893",
   "metadata": {},
   "outputs": [
    {
     "data": {
      "text/plain": [
       "66"
      ]
     },
     "execution_count": 120,
     "metadata": {},
     "output_type": "execute_result"
    }
   ],
   "source": [
    "xarr.sum()  # 총합"
   ]
  },
  {
   "cell_type": "code",
   "execution_count": 121,
   "id": "5cf106fd-f75c-4444-b616-342dd68af395",
   "metadata": {},
   "outputs": [
    {
     "data": {
      "text/plain": [
       "array([12, 15, 18, 21])"
      ]
     },
     "execution_count": 121,
     "metadata": {},
     "output_type": "execute_result"
    }
   ],
   "source": [
    "xarr.sum(axis=0)"
   ]
  },
  {
   "cell_type": "code",
   "execution_count": 122,
   "id": "16d809ef-f4e0-469f-a634-93e1459fb74d",
   "metadata": {},
   "outputs": [
    {
     "data": {
      "text/plain": [
       "array([ 6, 22, 38])"
      ]
     },
     "execution_count": 122,
     "metadata": {},
     "output_type": "execute_result"
    }
   ],
   "source": [
    "xarr.sum(axis=1)"
   ]
  },
  {
   "cell_type": "code",
   "execution_count": 123,
   "id": "7ec3bfe8-c021-494b-8dec-e98d564474ae",
   "metadata": {},
   "outputs": [
    {
     "data": {
      "text/plain": [
       "array([ 6, 22, 38])"
      ]
     },
     "execution_count": 123,
     "metadata": {},
     "output_type": "execute_result"
    }
   ],
   "source": [
    "np.sum(xarr, axis=1)"
   ]
  },
  {
   "cell_type": "code",
   "execution_count": 124,
   "id": "a2a640fc-9a32-4d94-9b21-bc1de1d2335c",
   "metadata": {},
   "outputs": [
    {
     "data": {
      "text/plain": [
       "array([4., 5., 6., 7.])"
      ]
     },
     "execution_count": 124,
     "metadata": {},
     "output_type": "execute_result"
    }
   ],
   "source": [
    "xarr.mean(axis=0)  # 평균"
   ]
  },
  {
   "cell_type": "code",
   "execution_count": 126,
   "id": "c265ca62-cc29-489b-9873-58401f308dc2",
   "metadata": {},
   "outputs": [
    {
     "data": {
      "text/plain": [
       "array([4., 5., 6., 7.])"
      ]
     },
     "execution_count": 126,
     "metadata": {},
     "output_type": "execute_result"
    }
   ],
   "source": [
    "np.mean(xarr, axis = 0)\n",
    "# 변수.함수(축) 는 대부분 np.함수(변수, 축) 로도 사용 가능"
   ]
  },
  {
   "cell_type": "code",
   "execution_count": 127,
   "id": "3eee261d-8c96-45ba-9ec6-f59867bc4587",
   "metadata": {},
   "outputs": [
    {
     "data": {
      "text/plain": [
       "array([0, 1, 2, 3])"
      ]
     },
     "execution_count": 127,
     "metadata": {},
     "output_type": "execute_result"
    }
   ],
   "source": [
    "xarr.min(axis=0)"
   ]
  },
  {
   "cell_type": "code",
   "execution_count": 128,
   "id": "ab09e8c5-c93c-4ab9-80ca-183f872e1984",
   "metadata": {},
   "outputs": [
    {
     "data": {
      "text/plain": [
       "array([[ 0,  1,  2,  3],\n",
       "       [ 4,  5,  6,  7],\n",
       "       [ 8,  9, 10, 11]])"
      ]
     },
     "execution_count": 128,
     "metadata": {},
     "output_type": "execute_result"
    }
   ],
   "source": [
    "xarr"
   ]
  },
  {
   "cell_type": "code",
   "execution_count": 131,
   "id": "6de1e96d-c730-4275-a869-abc102928192",
   "metadata": {},
   "outputs": [
    {
     "data": {
      "text/plain": [
       "array([[ 3,  4,  5,  6],\n",
       "       [ 7,  8,  9, 10],\n",
       "       [11, 12, 13, 14]])"
      ]
     },
     "execution_count": 131,
     "metadata": {},
     "output_type": "execute_result"
    }
   ],
   "source": [
    "xarr + 3  # 내부적으로 boradcasting 일어나서 가능 (안되는 구조도 있음)"
   ]
  },
  {
   "cell_type": "code",
   "execution_count": 133,
   "id": "877a6537-385f-4ba9-b6d2-0a379a89761a",
   "metadata": {},
   "outputs": [
    {
     "data": {
      "text/plain": [
       "array([[ 3,  4,  5,  6],\n",
       "       [ 7,  8,  9, 10],\n",
       "       [11, 12, 13, 14]])"
      ]
     },
     "execution_count": 133,
     "metadata": {},
     "output_type": "execute_result"
    }
   ],
   "source": [
    "xarr + [3]"
   ]
  },
  {
   "cell_type": "code",
   "execution_count": 134,
   "id": "d828606f-4d53-471e-a2f9-cedac1674cbb",
   "metadata": {},
   "outputs": [
    {
     "ename": "ValueError",
     "evalue": "operands could not be broadcast together with shapes (3,4) (2,) ",
     "output_type": "error",
     "traceback": [
      "\u001b[1;31m---------------------------------------------------------------------------\u001b[0m",
      "\u001b[1;31mValueError\u001b[0m                                Traceback (most recent call last)",
      "Input \u001b[1;32mIn [134]\u001b[0m, in \u001b[0;36m<cell line: 1>\u001b[1;34m()\u001b[0m\n\u001b[1;32m----> 1\u001b[0m \u001b[43mxarr\u001b[49m\u001b[43m \u001b[49m\u001b[38;5;241;43m+\u001b[39;49m\u001b[43m \u001b[49m\u001b[43mnp\u001b[49m\u001b[38;5;241;43m.\u001b[39;49m\u001b[43marray\u001b[49m\u001b[43m(\u001b[49m\u001b[43m[\u001b[49m\u001b[38;5;241;43m3\u001b[39;49m\u001b[43m,\u001b[49m\u001b[38;5;241;43m2\u001b[39;49m\u001b[43m]\u001b[49m\u001b[43m)\u001b[49m\n",
      "\u001b[1;31mValueError\u001b[0m: operands could not be broadcast together with shapes (3,4) (2,) "
     ]
    }
   ],
   "source": [
    "xarr + np.array([3,2])"
   ]
  },
  {
   "cell_type": "code",
   "execution_count": 135,
   "id": "a79a62bc-5a1f-4a5a-be97-64be71ff437d",
   "metadata": {},
   "outputs": [
    {
     "data": {
      "text/plain": [
       "array([[ 0,  2,  4,  6],\n",
       "       [ 8, 10, 12, 14],\n",
       "       [16, 18, 20, 22]])"
      ]
     },
     "execution_count": 135,
     "metadata": {},
     "output_type": "execute_result"
    }
   ],
   "source": [
    "xarr * 2"
   ]
  },
  {
   "cell_type": "code",
   "execution_count": 137,
   "id": "88e60e5a-e191-4206-96c9-23bfc2e01bdf",
   "metadata": {},
   "outputs": [],
   "source": [
    "x = np.array([[1, 2], [3, 4]])\n",
    "y = np.array([[1, 2], [3, 4]])"
   ]
  },
  {
   "cell_type": "code",
   "execution_count": 139,
   "id": "eda24f4d-cc94-493f-8759-9c1599c2c3aa",
   "metadata": {},
   "outputs": [
    {
     "data": {
      "text/plain": [
       "array([[ 1,  4],\n",
       "       [ 9, 16]])"
      ]
     },
     "execution_count": 139,
     "metadata": {},
     "output_type": "execute_result"
    }
   ],
   "source": [
    "x * y"
   ]
  },
  {
   "cell_type": "code",
   "execution_count": 140,
   "id": "58178e81-14ed-406e-8bb6-120e931b083a",
   "metadata": {},
   "outputs": [
    {
     "data": {
      "text/plain": [
       "array([[ 7, 10],\n",
       "       [15, 22]])"
      ]
     },
     "execution_count": 140,
     "metadata": {},
     "output_type": "execute_result"
    }
   ],
   "source": [
    "x @ y  # 행렬의 곱"
   ]
  },
  {
   "cell_type": "code",
   "execution_count": 149,
   "id": "f59311f6-ba5a-487e-9a64-f8e424207048",
   "metadata": {},
   "outputs": [],
   "source": [
    "x = np.array([1, 2, 3])\n",
    "y = np.array([1, 2, 3])"
   ]
  },
  {
   "cell_type": "code",
   "execution_count": 150,
   "id": "2c19b67e-63c0-4424-886a-9d77909ef61d",
   "metadata": {},
   "outputs": [
    {
     "data": {
      "text/plain": [
       "14"
      ]
     },
     "execution_count": 150,
     "metadata": {},
     "output_type": "execute_result"
    }
   ],
   "source": [
    "np.dot(x, y)  # 같은 자리 곱해서 다 더하기"
   ]
  },
  {
   "cell_type": "code",
   "execution_count": 151,
   "id": "2fc42b38-385d-4858-a243-963ea3f345e2",
   "metadata": {},
   "outputs": [
    {
     "data": {
      "text/plain": [
       "array([[ 7, 10],\n",
       "       [15, 22]])"
      ]
     },
     "execution_count": 151,
     "metadata": {},
     "output_type": "execute_result"
    }
   ],
   "source": [
    "x = np.array([[1, 2], [3, 4]])\n",
    "y = np.array([[1, 2], [3, 4]])\n",
    "\n",
    "np.dot(x, y)  # 2차원 넘어가면 행렬곱"
   ]
  },
  {
   "cell_type": "code",
   "execution_count": 153,
   "id": "1728615f-1278-46d5-97e9-64ea120b50cb",
   "metadata": {},
   "outputs": [
    {
     "data": {
      "text/plain": [
       "array([[ 7, 10],\n",
       "       [15, 22]])"
      ]
     },
     "execution_count": 153,
     "metadata": {},
     "output_type": "execute_result"
    }
   ],
   "source": [
    "x = np.array([[1, 2], [3, 4]])\n",
    "y = np.array([[1, 2], [3, 4]])\n",
    "\n",
    "np.matmul(x, y)  # 행렬곱 해주는 함수"
   ]
  },
  {
   "cell_type": "code",
   "execution_count": 155,
   "id": "08460c93-dd39-4c77-97ce-27faa9dfba7b",
   "metadata": {},
   "outputs": [
    {
     "data": {
      "text/plain": [
       "array([False, False,  True])"
      ]
     },
     "execution_count": 155,
     "metadata": {},
     "output_type": "execute_result"
    }
   ],
   "source": [
    "x = np.array([1, 2, 3])\n",
    "x > 2    \n",
    "# 결과 리스트를 받으려는게 아니라 이 조건에 맞는 값이 어떤 것인지 보고 가져오기 위함"
   ]
  },
  {
   "cell_type": "code",
   "execution_count": 161,
   "id": "12613f83-3266-47a8-83d1-570173466b85",
   "metadata": {},
   "outputs": [
    {
     "data": {
      "text/plain": [
       "array([3])"
      ]
     },
     "execution_count": 161,
     "metadata": {},
     "output_type": "execute_result"
    }
   ],
   "source": [
    "# x[[False, True, True, False]]\n",
    "\n",
    "# array([4,3])\n",
    "\n",
    "x[x > 2]  # 기준에 맞는 데이터를 없애거나 가져오기 위해 (이상치 처리)"
   ]
  },
  {
   "cell_type": "code",
   "execution_count": 162,
   "id": "38579b1f-2a70-4036-a13a-2e1fb3e514a9",
   "metadata": {},
   "outputs": [],
   "source": [
    "x = [1, 2, 3]\n",
    "y = [4, 5, 6]"
   ]
  },
  {
   "cell_type": "code",
   "execution_count": 168,
   "id": "ee365511-bbe0-4809-828f-e6fd8e171f69",
   "metadata": {},
   "outputs": [
    {
     "data": {
      "text/plain": [
       "array([1, 2, 3, 4, 5, 6])"
      ]
     },
     "execution_count": 168,
     "metadata": {},
     "output_type": "execute_result"
    }
   ],
   "source": [
    "np.concatenate((x, y), axis=0)  # 합치기"
   ]
  },
  {
   "cell_type": "code",
   "execution_count": 172,
   "id": "cc909eb7-4cae-42b6-96f4-dac2197115ac",
   "metadata": {},
   "outputs": [
    {
     "data": {
      "text/plain": [
       "array([[1, 2, 3],\n",
       "       [4, 5, 6]])"
      ]
     },
     "execution_count": 172,
     "metadata": {},
     "output_type": "execute_result"
    }
   ],
   "source": [
    "np.vstack((x, y)) # vertical 로 합치기"
   ]
  },
  {
   "cell_type": "code",
   "execution_count": 174,
   "id": "1b2d1b97-c5ed-4d8f-9e06-1bfe55fe07e5",
   "metadata": {},
   "outputs": [
    {
     "data": {
      "text/plain": [
       "array([1, 2, 3, 4, 5, 6])"
      ]
     },
     "execution_count": 174,
     "metadata": {},
     "output_type": "execute_result"
    }
   ],
   "source": [
    "np.hstack((x,y))  # horizonal 로 합치기"
   ]
  },
  {
   "cell_type": "code",
   "execution_count": 183,
   "id": "37c93560-00a4-4142-81a9-8cf442fcc47b",
   "metadata": {},
   "outputs": [],
   "source": [
    "x = np.array([1, 2, 3, 4]).reshape(2,2)\n",
    "y = np.array([4, 5, 6, 7]).reshape(2,2)"
   ]
  },
  {
   "cell_type": "code",
   "execution_count": 184,
   "id": "5797c25d-8f46-4020-b53a-2a6ef0fd04ae",
   "metadata": {},
   "outputs": [
    {
     "data": {
      "text/plain": [
       "array([[1, 2],\n",
       "       [3, 4],\n",
       "       [4, 5],\n",
       "       [6, 7]])"
      ]
     },
     "execution_count": 184,
     "metadata": {},
     "output_type": "execute_result"
    }
   ],
   "source": [
    "np.concatenate((x,y), axis=0)"
   ]
  },
  {
   "cell_type": "code",
   "execution_count": 185,
   "id": "cb30fe18-7f72-498a-9d66-9562c672825f",
   "metadata": {},
   "outputs": [
    {
     "data": {
      "text/plain": [
       "array([[1, 2, 4, 5],\n",
       "       [3, 4, 6, 7]])"
      ]
     },
     "execution_count": 185,
     "metadata": {},
     "output_type": "execute_result"
    }
   ],
   "source": [
    "np.concatenate((x,y), axis=1)"
   ]
  },
  {
   "cell_type": "code",
   "execution_count": 187,
   "id": "db68cf3e-f757-4ea3-9d47-b17e873b859e",
   "metadata": {},
   "outputs": [
    {
     "data": {
      "text/plain": [
       "[[1, 2], [3, 4]]"
      ]
     },
     "execution_count": 187,
     "metadata": {},
     "output_type": "execute_result"
    }
   ],
   "source": [
    "x = [[1,2],[3,4]]\n",
    "x"
   ]
  },
  {
   "cell_type": "code",
   "execution_count": 188,
   "id": "bdd5fb22-4081-4031-bc8c-d64ad3ba5a54",
   "metadata": {},
   "outputs": [
    {
     "name": "stdout",
     "output_type": "stream",
     "text": [
      "3\n"
     ]
    }
   ],
   "source": [
    "print(x[1][0])"
   ]
  },
  {
   "cell_type": "code",
   "execution_count": 190,
   "id": "480eb3cd-c7df-480a-b6e4-8bb68a3d88e3",
   "metadata": {},
   "outputs": [
    {
     "data": {
      "text/plain": [
       "3"
      ]
     },
     "execution_count": 190,
     "metadata": {},
     "output_type": "execute_result"
    }
   ],
   "source": [
    "x = np.array([[1,2], [3,4]])\n",
    "x[1,0]  # ndarray | python -> x[1][0]"
   ]
  },
  {
   "cell_type": "code",
   "execution_count": 266,
   "id": "fc200db0-9a40-48b7-9dcc-8ba2b68f67e5",
   "metadata": {},
   "outputs": [
    {
     "data": {
      "text/plain": [
       "array([1, 2, 3, 4, 5])"
      ]
     },
     "execution_count": 266,
     "metadata": {},
     "output_type": "execute_result"
    }
   ],
   "source": [
    "x = np.array([1, 2, 3, 4, 5])\n",
    "x"
   ]
  },
  {
   "cell_type": "code",
   "execution_count": 267,
   "id": "24bb56a8-1904-44bb-afa0-9609d19ea7d3",
   "metadata": {},
   "outputs": [
    {
     "data": {
      "text/plain": [
       "(array([3, 4], dtype=int64),)"
      ]
     },
     "execution_count": 267,
     "metadata": {},
     "output_type": "execute_result"
    }
   ],
   "source": [
    "np.where(x > 3)"
   ]
  },
  {
   "cell_type": "code",
   "execution_count": 268,
   "id": "ec4e383c-a3e4-4542-afaf-77f5b89e8689",
   "metadata": {},
   "outputs": [
    {
     "data": {
      "text/plain": [
       "array([0, 0, 0, 1, 1])"
      ]
     },
     "execution_count": 268,
     "metadata": {},
     "output_type": "execute_result"
    }
   ],
   "source": [
    "np.where(x > 3, 1, 0)  # 3보다 크면 1, 작으면 0"
   ]
  },
  {
   "cell_type": "code",
   "execution_count": 269,
   "id": "def6ae52-f875-4923-b5f8-08a1a198d160",
   "metadata": {},
   "outputs": [
    {
     "data": {
      "text/plain": [
       "3"
      ]
     },
     "execution_count": 269,
     "metadata": {},
     "output_type": "execute_result"
    }
   ],
   "source": [
    "x = np.array([1, 2, 3, 4, 5, 6])\n",
    "x = np.where(x > 3, 1, 0)\n",
    "x.sum()  # '1' (3보다 큰 값)의 개수를 알 수 있음"
   ]
  },
  {
   "cell_type": "code",
   "execution_count": 270,
   "id": "fd08f36a-90c5-4c79-8d56-46482ba053b9",
   "metadata": {},
   "outputs": [
    {
     "data": {
      "text/plain": [
       "array([[-2.08290392, -0.37219084, -0.24048417],\n",
       "       [-1.11228163, -1.47811447, -2.12327673],\n",
       "       [ 1.0614371 ,  1.28352761,  0.34346872],\n",
       "       [ 0.43077683,  0.97481727,  2.08968604]])"
      ]
     },
     "execution_count": 270,
     "metadata": {},
     "output_type": "execute_result"
    }
   ],
   "source": [
    "x = np.random.randn(4, 3)\n",
    "x"
   ]
  },
  {
   "cell_type": "code",
   "execution_count": 271,
   "id": "1388c7fb-ec12-4da1-ba11-7d6cacfd920c",
   "metadata": {},
   "outputs": [
    {
     "data": {
      "text/plain": [
       "array([2, 0, 1, 2], dtype=int64)"
      ]
     },
     "execution_count": 271,
     "metadata": {},
     "output_type": "execute_result"
    }
   ],
   "source": [
    "np.argmax(x, axis=1)  # 열마다 최댓값의 인덱스"
   ]
  },
  {
   "cell_type": "code",
   "execution_count": 272,
   "id": "8541faa6-bb83-4c48-9c9d-8ceb112dd8c5",
   "metadata": {},
   "outputs": [
    {
     "data": {
      "text/plain": [
       "array([0, 2, 2, 0], dtype=int64)"
      ]
     },
     "execution_count": 272,
     "metadata": {},
     "output_type": "execute_result"
    }
   ],
   "source": [
    "np.argmin(x, axis =1)  # 열마다 최솟값의 인덱스"
   ]
  },
  {
   "cell_type": "code",
   "execution_count": 273,
   "id": "de11abb1-b35d-4c0d-a866-264e5ee97398",
   "metadata": {},
   "outputs": [
    {
     "data": {
      "text/plain": [
       "array([1, 2, 3, 4, 5, 6, 7])"
      ]
     },
     "execution_count": 273,
     "metadata": {},
     "output_type": "execute_result"
    }
   ],
   "source": [
    "xarr = np.array([1, 2, 3, 4, 5, 6, 7])  # 뒤에 .copy 붙이면 원본 데이터 안바뀜\n",
    "xarr"
   ]
  },
  {
   "cell_type": "code",
   "execution_count": 274,
   "id": "5d85ac59-da6c-4ecb-912e-4487cde8cd5b",
   "metadata": {},
   "outputs": [
    {
     "data": {
      "text/plain": [
       "array([1, 2, 3, 4, 5])"
      ]
     },
     "execution_count": 274,
     "metadata": {},
     "output_type": "execute_result"
    }
   ],
   "source": [
    "xarr[0:5]\n",
    "# xarr[:5] xarr[:] 전부다 xarr[:-1] 마지막꺼 빼고 나머지 xarr[-1] 마지막꺼만"
   ]
  },
  {
   "cell_type": "code",
   "execution_count": 275,
   "id": "3b71317e-fd8a-41ac-a4bd-126a9e008d8a",
   "metadata": {},
   "outputs": [],
   "source": [
    "# X = xarr[:-1] target 값 제외한 데이터\n",
    "# Y = xarr[-1]  target 값"
   ]
  },
  {
   "cell_type": "code",
   "execution_count": 276,
   "id": "d3f8e722-0224-408d-b2ab-b4277b6258d8",
   "metadata": {},
   "outputs": [
    {
     "data": {
      "text/plain": [
       "array([4, 5])"
      ]
     },
     "execution_count": 276,
     "metadata": {},
     "output_type": "execute_result"
    }
   ],
   "source": [
    "y = xarr[3:5]\n",
    "y"
   ]
  },
  {
   "cell_type": "code",
   "execution_count": 277,
   "id": "010ab4fe-1899-47ac-b4c4-3e19077af8e4",
   "metadata": {},
   "outputs": [
    {
     "data": {
      "text/plain": [
       "array([-1,  5])"
      ]
     },
     "execution_count": 277,
     "metadata": {},
     "output_type": "execute_result"
    }
   ],
   "source": [
    "y[0] = -1\n",
    "y"
   ]
  },
  {
   "cell_type": "code",
   "execution_count": 278,
   "id": "8cb49435-85d0-4a6a-b5a8-87fa3b443ee9",
   "metadata": {},
   "outputs": [
    {
     "data": {
      "text/plain": [
       "array([ 1,  2,  3, -1,  5,  6,  7])"
      ]
     },
     "execution_count": 278,
     "metadata": {},
     "output_type": "execute_result"
    }
   ],
   "source": [
    "xarr"
   ]
  },
  {
   "cell_type": "code",
   "execution_count": 293,
   "id": "ae46431a-c72a-4902-b482-e4d2069d700b",
   "metadata": {},
   "outputs": [
    {
     "data": {
      "text/plain": [
       "array([[5.1, 3.5, 1.4, 0.2, nan],\n",
       "       [4.9, 3. , 1.4, 0.2, nan],\n",
       "       [4.7, 3.2, 1.3, 0.2, nan],\n",
       "       [4.6, 3.1, 1.5, 0.2, nan],\n",
       "       [5. , 3.6, 1.4, 0.2, nan]])"
      ]
     },
     "execution_count": 293,
     "metadata": {},
     "output_type": "execute_result"
    }
   ],
   "source": [
    "iris = np.genfromtxt('./datasets/iris.csv', delimiter=',', skip_header=1)\n",
    "iris[:5]"
   ]
  },
  {
   "cell_type": "code",
   "execution_count": 294,
   "id": "e6777fb5-5b50-42a6-a94c-5ce2ac1d6228",
   "metadata": {},
   "outputs": [
    {
     "data": {
      "text/plain": [
       "(150, 5)"
      ]
     },
     "execution_count": 294,
     "metadata": {},
     "output_type": "execute_result"
    }
   ],
   "source": [
    "iris.shape"
   ]
  },
  {
   "cell_type": "code",
   "execution_count": 295,
   "id": "793dd17e-35d5-4279-b1cc-445698848451",
   "metadata": {},
   "outputs": [
    {
     "data": {
      "text/plain": [
       "dtype('float64')"
      ]
     },
     "execution_count": 295,
     "metadata": {},
     "output_type": "execute_result"
    }
   ],
   "source": [
    "iris.dtype"
   ]
  },
  {
   "cell_type": "code",
   "execution_count": 296,
   "id": "724c8289-3146-41b6-ae06-7e2809fedd43",
   "metadata": {},
   "outputs": [],
   "source": [
    "xarr = iris[:,:-1] # 나는 iris[:,0:4] 라고 했음\n"
   ]
  },
  {
   "cell_type": "code",
   "execution_count": 297,
   "id": "cd849e0d-a3ca-4120-92d3-b2199f91f5a1",
   "metadata": {},
   "outputs": [
    {
     "data": {
      "text/plain": [
       "5.843333333333334"
      ]
     },
     "execution_count": 297,
     "metadata": {},
     "output_type": "execute_result"
    }
   ],
   "source": [
    "xarr[:,0].mean()"
   ]
  },
  {
   "cell_type": "code",
   "execution_count": 298,
   "id": "131bcb89-9100-4e99-ba11-a9713aeccebe",
   "metadata": {},
   "outputs": [],
   "source": [
    "m = 5.8\n",
    "x = xarr[xarr[:,0] > 5.8 , :]\n",
    "y = xarr[xarr[:,0] <= 5.8 , :]"
   ]
  },
  {
   "cell_type": "code",
   "execution_count": 299,
   "id": "a30255d7-0506-45dc-a663-b879a861ae00",
   "metadata": {},
   "outputs": [
    {
     "data": {
      "text/plain": [
       "5.9"
      ]
     },
     "execution_count": 299,
     "metadata": {},
     "output_type": "execute_result"
    }
   ],
   "source": [
    "x[:,0].min()"
   ]
  },
  {
   "cell_type": "code",
   "execution_count": 300,
   "id": "a3f7fa3c-3638-46c8-b474-4bbaff175c76",
   "metadata": {},
   "outputs": [
    {
     "data": {
      "text/plain": [
       "5.8"
      ]
     },
     "execution_count": 300,
     "metadata": {},
     "output_type": "execute_result"
    }
   ],
   "source": [
    "y[:,0].max()"
   ]
  },
  {
   "cell_type": "code",
   "execution_count": 301,
   "id": "d9be51cb-ebb0-4e05-8b38-2a0b5136af78",
   "metadata": {},
   "outputs": [
    {
     "data": {
      "text/plain": [
       "(70, 4)"
      ]
     },
     "execution_count": 301,
     "metadata": {},
     "output_type": "execute_result"
    }
   ],
   "source": [
    "x.shape"
   ]
  },
  {
   "cell_type": "code",
   "execution_count": 302,
   "id": "6377dd57-72c1-4a9e-ba69-7e77b8162ecd",
   "metadata": {},
   "outputs": [
    {
     "data": {
      "text/plain": [
       "(80, 4)"
      ]
     },
     "execution_count": 302,
     "metadata": {},
     "output_type": "execute_result"
    }
   ],
   "source": [
    "y.shape"
   ]
  },
  {
   "cell_type": "code",
   "execution_count": 303,
   "id": "cfb87757-363e-4911-9a5d-e09e697c2393",
   "metadata": {},
   "outputs": [],
   "source": [
    "np.savez('my_iris.npz', my_x=x, my_y=y)"
   ]
  },
  {
   "cell_type": "code",
   "execution_count": 304,
   "id": "8467471d-d29c-4fca-af5e-a096b0e7f95e",
   "metadata": {},
   "outputs": [
    {
     "name": "stdout",
     "output_type": "stream",
     "text": [
      " C 드라이브의 볼륨에는 이름이 없습니다.\n",
      " 볼륨 일련 번호: C63E-484E\n",
      "\n",
      " C:\\Users\\042 디렉터리\n",
      "\n",
      "2022-07-14  오후 02:53    <DIR>          .\n",
      "2022-05-18  오후 01:29    <DIR>          ..\n",
      "2022-07-08  오후 05:24    <DIR>          .android\n",
      "2022-07-04  오후 02:15    <DIR>          .azure\n",
      "2022-07-14  오후 02:58    <DIR>          .conda\n",
      "2022-07-14  오전 10:12                25 .condarc\n",
      "2022-07-14  오전 10:11    <DIR>          .continuum\n",
      "2022-07-06  오전 10:11                16 .emulator_console_auth_token\n",
      "2022-07-11  오후 05:05                51 .gitconfig\n",
      "2022-07-06  오전 09:53    <DIR>          .gradle\n",
      "2022-07-11  오전 09:59    <DIR>          .idlerc\n",
      "2022-07-14  오후 12:31    <DIR>          .ipynb_checkpoints\n",
      "2022-07-01  오전 09:44    <DIR>          .ipython\n",
      "2022-07-14  오전 10:12    <DIR>          .jupyter\n",
      "2022-07-11  오후 05:05                20 .lesshst\n",
      "2022-07-06  오전 09:55    <DIR>          .m2\n",
      "2022-07-01  오전 10:22    <DIR>          .matplotlib\n",
      "2022-07-08  오후 05:41    <DIR>          .nbi\n",
      "2022-06-30  오전 08:59    <DIR>          .VirtualBox\n",
      "2022-07-11  오전 08:47    <DIR>          .vscode\n",
      "2022-07-14  오후 02:53            47,085 01-numpy.ipynb\n",
      "2022-07-14  오전 10:34             2,725 01.numpy.ipynb\n",
      "2022-07-01  오전 09:29    <DIR>          anaconda3\n",
      "2022-07-08  오후 05:50    <DIR>          AndroidStudioProjects\n",
      "2022-05-18  오후 01:28    <DIR>          Contacts\n",
      "2022-07-14  오후 02:26    <DIR>          datasets\n",
      "2022-07-14  오전 09:07    <DIR>          Desktop\n",
      "2022-07-11  오후 12:03    <DIR>          Documents\n",
      "2022-07-14  오전 09:42    <DIR>          Downloads\n",
      "2022-07-12  오후 04:08    <DIR>          envSKFLYAI\n",
      "2022-05-18  오후 01:28    <DIR>          Favorites\n",
      "2022-07-07  오전 10:19       730,093,694 java_error_in_studio64.hprof\n",
      "2022-05-18  오후 01:28    <DIR>          Links\n",
      "2022-06-29  오후 04:39    <DIR>          miniconda3\n",
      "2022-05-18  오후 01:28    <DIR>          Music\n",
      "2022-07-14  오후 02:58             5,302 my_iris.npz\n",
      "2022-05-19  오후 01:55    <DIR>          OneDrive\n",
      "2022-07-08  오전 08:57    <DIR>          Pictures\n",
      "2022-05-18  오후 01:28    <DIR>          Saved Games\n",
      "2022-06-27  오후 05:58    <DIR>          Searches\n",
      "2022-07-11  오후 01:47    <DIR>          SKT-FLYAI\n",
      "2022-06-27  오후 07:08    <DIR>          Videos\n",
      "2022-06-27  오후 03:42    <DIR>          VirtualBox VMs\n",
      "               8개 파일         730,148,918 바이트\n",
      "              35개 디렉터리  346,218,061,824 바이트 남음\n"
     ]
    }
   ],
   "source": [
    "!dir"
   ]
  },
  {
   "cell_type": "code",
   "execution_count": 305,
   "id": "4d394307-6c6c-4c2f-854d-946ba2b76ca8",
   "metadata": {},
   "outputs": [
    {
     "data": {
      "text/plain": [
       "numpy.lib.npyio.NpzFile"
      ]
     },
     "execution_count": 305,
     "metadata": {},
     "output_type": "execute_result"
    }
   ],
   "source": [
    "my_iris = np.load('my_iris.npz')\n",
    "type(my_iris)"
   ]
  },
  {
   "cell_type": "code",
   "execution_count": 306,
   "id": "f10210c1-7b82-41b9-8e84-97c7d9fc2354",
   "metadata": {},
   "outputs": [
    {
     "data": {
      "text/plain": [
       "numpy.ndarray"
      ]
     },
     "execution_count": 306,
     "metadata": {},
     "output_type": "execute_result"
    }
   ],
   "source": [
    "xarr = my_iris['my_x']\n",
    "type(xarr)"
   ]
  },
  {
   "cell_type": "code",
   "execution_count": 307,
   "id": "14f8eec0-bd42-4b1e-9631-ce5e58574d00",
   "metadata": {},
   "outputs": [
    {
     "data": {
      "text/plain": [
       "array([[7. , 3.2, 4.7, 1.4],\n",
       "       [6.4, 3.2, 4.5, 1.5],\n",
       "       [6.9, 3.1, 4.9, 1.5],\n",
       "       [6.5, 2.8, 4.6, 1.5],\n",
       "       [6.3, 3.3, 4.7, 1.6],\n",
       "       [6.6, 2.9, 4.6, 1.3],\n",
       "       [5.9, 3. , 4.2, 1.5],\n",
       "       [6. , 2.2, 4. , 1. ],\n",
       "       [6.1, 2.9, 4.7, 1.4],\n",
       "       [6.7, 3.1, 4.4, 1.4],\n",
       "       [6.2, 2.2, 4.5, 1.5],\n",
       "       [5.9, 3.2, 4.8, 1.8],\n",
       "       [6.1, 2.8, 4. , 1.3],\n",
       "       [6.3, 2.5, 4.9, 1.5],\n",
       "       [6.1, 2.8, 4.7, 1.2],\n",
       "       [6.4, 2.9, 4.3, 1.3],\n",
       "       [6.6, 3. , 4.4, 1.4],\n",
       "       [6.8, 2.8, 4.8, 1.4],\n",
       "       [6.7, 3. , 5. , 1.7],\n",
       "       [6. , 2.9, 4.5, 1.5],\n",
       "       [6. , 2.7, 5.1, 1.6],\n",
       "       [6. , 3.4, 4.5, 1.6],\n",
       "       [6.7, 3.1, 4.7, 1.5],\n",
       "       [6.3, 2.3, 4.4, 1.3],\n",
       "       [6.1, 3. , 4.6, 1.4],\n",
       "       [6.2, 2.9, 4.3, 1.3],\n",
       "       [6.3, 3.3, 6. , 2.5],\n",
       "       [7.1, 3. , 5.9, 2.1],\n",
       "       [6.3, 2.9, 5.6, 1.8],\n",
       "       [6.5, 3. , 5.8, 2.2],\n",
       "       [7.6, 3. , 6.6, 2.1],\n",
       "       [7.3, 2.9, 6.3, 1.8],\n",
       "       [6.7, 2.5, 5.8, 1.8],\n",
       "       [7.2, 3.6, 6.1, 2.5],\n",
       "       [6.5, 3.2, 5.1, 2. ],\n",
       "       [6.4, 2.7, 5.3, 1.9],\n",
       "       [6.8, 3. , 5.5, 2.1],\n",
       "       [6.4, 3.2, 5.3, 2.3],\n",
       "       [6.5, 3. , 5.5, 1.8],\n",
       "       [7.7, 3.8, 6.7, 2.2],\n",
       "       [7.7, 2.6, 6.9, 2.3],\n",
       "       [6. , 2.2, 5. , 1.5],\n",
       "       [6.9, 3.2, 5.7, 2.3],\n",
       "       [7.7, 2.8, 6.7, 2. ],\n",
       "       [6.3, 2.7, 4.9, 1.8],\n",
       "       [6.7, 3.3, 5.7, 2.1],\n",
       "       [7.2, 3.2, 6. , 1.8],\n",
       "       [6.2, 2.8, 4.8, 1.8],\n",
       "       [6.1, 3. , 4.9, 1.8],\n",
       "       [6.4, 2.8, 5.6, 2.1],\n",
       "       [7.2, 3. , 5.8, 1.6],\n",
       "       [7.4, 2.8, 6.1, 1.9],\n",
       "       [7.9, 3.8, 6.4, 2. ],\n",
       "       [6.4, 2.8, 5.6, 2.2],\n",
       "       [6.3, 2.8, 5.1, 1.5],\n",
       "       [6.1, 2.6, 5.6, 1.4],\n",
       "       [7.7, 3. , 6.1, 2.3],\n",
       "       [6.3, 3.4, 5.6, 2.4],\n",
       "       [6.4, 3.1, 5.5, 1.8],\n",
       "       [6. , 3. , 4.8, 1.8],\n",
       "       [6.9, 3.1, 5.4, 2.1],\n",
       "       [6.7, 3.1, 5.6, 2.4],\n",
       "       [6.9, 3.1, 5.1, 2.3],\n",
       "       [6.8, 3.2, 5.9, 2.3],\n",
       "       [6.7, 3.3, 5.7, 2.5],\n",
       "       [6.7, 3. , 5.2, 2.3],\n",
       "       [6.3, 2.5, 5. , 1.9],\n",
       "       [6.5, 3. , 5.2, 2. ],\n",
       "       [6.2, 3.4, 5.4, 2.3],\n",
       "       [5.9, 3. , 5.1, 1.8]])"
      ]
     },
     "execution_count": 307,
     "metadata": {},
     "output_type": "execute_result"
    }
   ],
   "source": [
    "xarr"
   ]
  },
  {
   "cell_type": "code",
   "execution_count": null,
   "id": "6cc43822-3689-47e0-bca0-a3a54fc00b4d",
   "metadata": {},
   "outputs": [],
   "source": []
  }
 ],
 "metadata": {
  "kernelspec": {
   "display_name": "myml",
   "language": "python",
   "name": "myml"
  },
  "language_info": {
   "codemirror_mode": {
    "name": "ipython",
    "version": 3
   },
   "file_extension": ".py",
   "mimetype": "text/x-python",
   "name": "python",
   "nbconvert_exporter": "python",
   "pygments_lexer": "ipython3",
   "version": "3.8.0"
  }
 },
 "nbformat": 4,
 "nbformat_minor": 5
}
